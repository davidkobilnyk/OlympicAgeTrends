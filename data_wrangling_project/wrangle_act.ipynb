{
 "cells": [
  {
   "cell_type": "markdown",
   "metadata": {},
   "source": [
    "# Doggo Data Wrangling\n",
    "\n",
    "## Table of Contents\n",
    "<ul>\n",
    "<li><a href=\"#Introduction\">Introduction</a></li>\n",
    "<li><a href=\"#Gather\">Gather</a></li>\n",
    "<li><a href=\"#Tidiness\">Tidiness</a></li>\n",
    "<li><a href=\"#Quality\">Quality</a></li>\n",
    "<li><a href=\"#Store\">Store</a></li>\n",
    "<li><a href=\"#Analysis\">Analysis</a></li>\n",
    "</ul>"
   ]
  },
  {
   "cell_type": "markdown",
   "metadata": {},
   "source": [
    "# Introduction\n",
    "\n",
    "> We are going to gather data from three different sources: 1) an archive of tweet information that we have on file, 2) image content predictions (from a neural net) stored online, and 3) additional tweet information via the Twitter API. We will then assess the tidiness of the collected data sets, and remedy any important problems for our project. Next, we will assess the quality of the newly tidied data set, and address significant issues. (It seemed easier to address the quality problems after the data was tidied.) Then we will store the cleaned data set to file. Finally, we will perform some analysis to answer a few interesting questions from the data set."
   ]
  },
  {
   "cell_type": "markdown",
   "metadata": {},
   "source": [
    "# Gather"
   ]
  },
  {
   "cell_type": "code",
   "execution_count": 1,
   "metadata": {},
   "outputs": [],
   "source": [
    "import math\n",
    "import numpy as np\n",
    "import pandas as pd\n",
    "import statsmodels.api as sm\n",
    "import matplotlib as mpl\n",
    "import matplotlib.pyplot as plt\n",
    "import seaborn as sns\n",
    "\n",
    "import time\n",
    "from io import StringIO\n",
    "import os.path\n",
    "import requests\n",
    "import json\n",
    "import tweepy"
   ]
  },
  {
   "cell_type": "markdown",
   "metadata": {},
   "source": [
    "## Data Source 1"
   ]
  },
  {
   "cell_type": "code",
   "execution_count": 2,
   "metadata": {},
   "outputs": [
    {
     "data": {
      "text/html": [
       "<div>\n",
       "<style scoped>\n",
       "    .dataframe tbody tr th:only-of-type {\n",
       "        vertical-align: middle;\n",
       "    }\n",
       "\n",
       "    .dataframe tbody tr th {\n",
       "        vertical-align: top;\n",
       "    }\n",
       "\n",
       "    .dataframe thead th {\n",
       "        text-align: right;\n",
       "    }\n",
       "</style>\n",
       "<table border=\"1\" class=\"dataframe\">\n",
       "  <thead>\n",
       "    <tr style=\"text-align: right;\">\n",
       "      <th></th>\n",
       "      <th>tweet_id</th>\n",
       "      <th>in_reply_to_status_id</th>\n",
       "      <th>in_reply_to_user_id</th>\n",
       "      <th>timestamp</th>\n",
       "      <th>source</th>\n",
       "      <th>text</th>\n",
       "      <th>retweeted_status_id</th>\n",
       "      <th>retweeted_status_user_id</th>\n",
       "      <th>retweeted_status_timestamp</th>\n",
       "      <th>expanded_urls</th>\n",
       "      <th>rating_numerator</th>\n",
       "      <th>rating_denominator</th>\n",
       "      <th>name</th>\n",
       "      <th>doggo</th>\n",
       "      <th>floofer</th>\n",
       "      <th>pupper</th>\n",
       "      <th>puppo</th>\n",
       "    </tr>\n",
       "  </thead>\n",
       "  <tbody>\n",
       "    <tr>\n",
       "      <th>0</th>\n",
       "      <td>892420643555336193</td>\n",
       "      <td>NaN</td>\n",
       "      <td>NaN</td>\n",
       "      <td>2017-08-01 16:23:56 +0000</td>\n",
       "      <td>&lt;a href=\"http://twitter.com/download/iphone\" r...</td>\n",
       "      <td>This is Phineas. He's a mystical boy. Only eve...</td>\n",
       "      <td>NaN</td>\n",
       "      <td>NaN</td>\n",
       "      <td>NaN</td>\n",
       "      <td>https://twitter.com/dog_rates/status/892420643...</td>\n",
       "      <td>13</td>\n",
       "      <td>10</td>\n",
       "      <td>Phineas</td>\n",
       "      <td>None</td>\n",
       "      <td>None</td>\n",
       "      <td>None</td>\n",
       "      <td>None</td>\n",
       "    </tr>\n",
       "  </tbody>\n",
       "</table>\n",
       "</div>"
      ],
      "text/plain": [
       "             tweet_id  in_reply_to_status_id  in_reply_to_user_id  \\\n",
       "0  892420643555336193                    NaN                  NaN   \n",
       "\n",
       "                   timestamp  \\\n",
       "0  2017-08-01 16:23:56 +0000   \n",
       "\n",
       "                                              source  \\\n",
       "0  <a href=\"http://twitter.com/download/iphone\" r...   \n",
       "\n",
       "                                                text  retweeted_status_id  \\\n",
       "0  This is Phineas. He's a mystical boy. Only eve...                  NaN   \n",
       "\n",
       "   retweeted_status_user_id retweeted_status_timestamp  \\\n",
       "0                       NaN                        NaN   \n",
       "\n",
       "                                       expanded_urls  rating_numerator  \\\n",
       "0  https://twitter.com/dog_rates/status/892420643...                13   \n",
       "\n",
       "   rating_denominator     name doggo floofer pupper puppo  \n",
       "0                  10  Phineas  None    None   None  None  "
      ]
     },
     "execution_count": 2,
     "metadata": {},
     "output_type": "execute_result"
    }
   ],
   "source": [
    "df_tweets = pd.read_csv('twitter-archive-enhanced.csv')\n",
    "df_tweets.head(1)"
   ]
  },
  {
   "cell_type": "markdown",
   "metadata": {},
   "source": [
    "## Data Source 2"
   ]
  },
  {
   "cell_type": "code",
   "execution_count": 3,
   "metadata": {},
   "outputs": [
    {
     "data": {
      "text/html": [
       "<div>\n",
       "<style scoped>\n",
       "    .dataframe tbody tr th:only-of-type {\n",
       "        vertical-align: middle;\n",
       "    }\n",
       "\n",
       "    .dataframe tbody tr th {\n",
       "        vertical-align: top;\n",
       "    }\n",
       "\n",
       "    .dataframe thead th {\n",
       "        text-align: right;\n",
       "    }\n",
       "</style>\n",
       "<table border=\"1\" class=\"dataframe\">\n",
       "  <thead>\n",
       "    <tr style=\"text-align: right;\">\n",
       "      <th></th>\n",
       "      <th>tweet_id</th>\n",
       "      <th>jpg_url</th>\n",
       "      <th>img_num</th>\n",
       "      <th>p1</th>\n",
       "      <th>p1_conf</th>\n",
       "      <th>p1_dog</th>\n",
       "      <th>p2</th>\n",
       "      <th>p2_conf</th>\n",
       "      <th>p2_dog</th>\n",
       "      <th>p3</th>\n",
       "      <th>p3_conf</th>\n",
       "      <th>p3_dog</th>\n",
       "    </tr>\n",
       "  </thead>\n",
       "  <tbody>\n",
       "    <tr>\n",
       "      <th>0</th>\n",
       "      <td>666020888022790149</td>\n",
       "      <td>https://pbs.twimg.com/media/CT4udn0WwAA0aMy.jpg</td>\n",
       "      <td>1</td>\n",
       "      <td>Welsh_springer_spaniel</td>\n",
       "      <td>0.465074</td>\n",
       "      <td>True</td>\n",
       "      <td>collie</td>\n",
       "      <td>0.156665</td>\n",
       "      <td>True</td>\n",
       "      <td>Shetland_sheepdog</td>\n",
       "      <td>0.061428</td>\n",
       "      <td>True</td>\n",
       "    </tr>\n",
       "  </tbody>\n",
       "</table>\n",
       "</div>"
      ],
      "text/plain": [
       "             tweet_id                                          jpg_url  \\\n",
       "0  666020888022790149  https://pbs.twimg.com/media/CT4udn0WwAA0aMy.jpg   \n",
       "\n",
       "   img_num                      p1   p1_conf  p1_dog      p2   p2_conf  \\\n",
       "0        1  Welsh_springer_spaniel  0.465074    True  collie  0.156665   \n",
       "\n",
       "   p2_dog                 p3   p3_conf  p3_dog  \n",
       "0    True  Shetland_sheepdog  0.061428    True  "
      ]
     },
     "execution_count": 3,
     "metadata": {},
     "output_type": "execute_result"
    }
   ],
   "source": [
    "predictions_url = (\n",
    "    'https://d17h27t6h515a5.cloudfront.net/' +\n",
    "    'topher/2017/August/599fd2ad_image-predictions/image-predictions.tsv'\n",
    ")\n",
    "response = requests.get(predictions_url)\n",
    "with open('image-predictions.tsv', 'w+') as f:\n",
    "    f.write(response.text)\n",
    "df_predictions = pd.read_csv(StringIO(response.text), delimiter='\\t')\n",
    "df_predictions.head(1)"
   ]
  },
  {
   "cell_type": "code",
   "execution_count": 4,
   "metadata": {},
   "outputs": [
    {
     "data": {
      "text/plain": [
       "True"
      ]
     },
     "execution_count": 4,
     "metadata": {},
     "output_type": "execute_result"
    }
   ],
   "source": [
    "tweet_ids = df_tweets.tweet_id.tolist()\n",
    "set(tweet_ids).issuperset(set(df_predictions.tweet_id.tolist()))"
   ]
  },
  {
   "cell_type": "markdown",
   "metadata": {},
   "source": [
    "## Data Source 3"
   ]
  },
  {
   "cell_type": "code",
   "execution_count": 5,
   "metadata": {},
   "outputs": [],
   "source": [
    "def twitter_tokens():\n",
    "    with open('passwords.txt', 'r') as file:\n",
    "        pwd_str = file.read()\n",
    "        return pwd_str.split(',')\n",
    "\n",
    "\n",
    "def twitter_api_connection():\n",
    "    (api_key, api_secret, access_token, access_secret) = twitter_tokens()\n",
    "    auth = tweepy.OAuthHandler(api_key, api_secret)\n",
    "    auth.set_access_token(access_token, access_secret)\n",
    "    api = tweepy.API(\n",
    "        auth, wait_on_rate_limit=True, wait_on_rate_limit_notify=True\n",
    "    )\n",
    "    return api\n",
    "\n",
    "\n",
    "# From https://stackoverflow.com/a/312464/576101.\n",
    "def chunks(l, n):\n",
    "    \"\"\"Yield successive n-sized chunks from l.\"\"\"\n",
    "    for i in range(0, len(l), n):\n",
    "        yield l[i:i + n]\n",
    "\n",
    "\n",
    "def write_tweets_with_ids_to_new_file(tweet_ids, file_name):\n",
    "    if not os.path.isfile(file_name):\n",
    "        api = twitter_api_connection()\n",
    "        with open(file_name, 'w+') as file:\n",
    "            for tweet_id_chunk in chunks(tweet_ids, 100):\n",
    "                tweets = api.statuses_lookup(tweet_id_chunk)\n",
    "                for tweet in tweets:\n",
    "                    file.write(json.dumps(tweet._json) + '\\n')\n",
    "\n",
    "\n",
    "write_tweets_with_ids_to_new_file(tweet_ids, 'tweets_json.txt')"
   ]
  },
  {
   "cell_type": "code",
   "execution_count": 6,
   "metadata": {},
   "outputs": [
    {
     "name": "stdout",
     "output_type": "stream",
     "text": [
      "<class 'pandas.core.frame.DataFrame'>\n",
      "RangeIndex: 2342 entries, 0 to 2341\n",
      "Data columns (total 3 columns):\n",
      "id                2342 non-null int64\n",
      "favorite_count    2342 non-null int64\n",
      "retweet_count     2342 non-null int64\n",
      "dtypes: int64(3)\n",
      "memory usage: 55.0 KB\n"
     ]
    }
   ],
   "source": [
    "# Keep only the fields we care about.\n",
    "json_fields = [\n",
    "    'id',\n",
    "    'favorite_count',\n",
    "    'retweet_count'\n",
    "]\n",
    "df_json_full = pd.read_json('tweets_json.txt', lines=True)\n",
    "df_json = df_json_full[json_fields]\n",
    "df_json.info()"
   ]
  },
  {
   "cell_type": "markdown",
   "metadata": {},
   "source": [
    "# Tidiness\n",
    "\n",
    "## Assess\n",
    "\n",
    "> We will take a look at all of the columns in each data frame, and proceed column by column looking for issues. Columns without any issues may not be commented on."
   ]
  },
  {
   "cell_type": "markdown",
   "metadata": {},
   "source": [
    "### df_tweets"
   ]
  },
  {
   "cell_type": "code",
   "execution_count": 7,
   "metadata": {},
   "outputs": [
    {
     "name": "stdout",
     "output_type": "stream",
     "text": [
      "<class 'pandas.core.frame.DataFrame'>\n",
      "RangeIndex: 2356 entries, 0 to 2355\n",
      "Data columns (total 17 columns):\n",
      "tweet_id                      2356 non-null int64\n",
      "in_reply_to_status_id         78 non-null float64\n",
      "in_reply_to_user_id           78 non-null float64\n",
      "timestamp                     2356 non-null object\n",
      "source                        2356 non-null object\n",
      "text                          2356 non-null object\n",
      "retweeted_status_id           181 non-null float64\n",
      "retweeted_status_user_id      181 non-null float64\n",
      "retweeted_status_timestamp    181 non-null object\n",
      "expanded_urls                 2297 non-null object\n",
      "rating_numerator              2356 non-null int64\n",
      "rating_denominator            2356 non-null int64\n",
      "name                          2356 non-null object\n",
      "doggo                         2356 non-null object\n",
      "floofer                       2356 non-null object\n",
      "pupper                        2356 non-null object\n",
      "puppo                         2356 non-null object\n",
      "dtypes: float64(4), int64(3), object(10)\n",
      "memory usage: 313.0+ KB\n"
     ]
    }
   ],
   "source": [
    "df_tweets.info()"
   ]
  },
  {
   "cell_type": "code",
   "execution_count": 8,
   "metadata": {},
   "outputs": [
    {
     "data": {
      "text/plain": [
       "tweet_id                      2356\n",
       "in_reply_to_status_id           77\n",
       "in_reply_to_user_id             31\n",
       "timestamp                     2356\n",
       "source                           4\n",
       "text                          2356\n",
       "retweeted_status_id            181\n",
       "retweeted_status_user_id        25\n",
       "retweeted_status_timestamp     181\n",
       "expanded_urls                 2218\n",
       "rating_numerator                40\n",
       "rating_denominator              18\n",
       "name                           957\n",
       "doggo                            2\n",
       "floofer                          2\n",
       "pupper                           2\n",
       "puppo                            2\n",
       "dtype: int64"
      ]
     },
     "execution_count": 8,
     "metadata": {},
     "output_type": "execute_result"
    }
   ],
   "source": [
    "df_tweets.nunique()"
   ]
  },
  {
   "cell_type": "code",
   "execution_count": 9,
   "metadata": {},
   "outputs": [
    {
     "data": {
      "text/plain": [
       "array(['<a href=\"http://twitter.com/download/iphone\" rel=\"nofollow\">Twitter for iPhone</a>',\n",
       "       '<a href=\"http://twitter.com\" rel=\"nofollow\">Twitter Web Client</a>',\n",
       "       '<a href=\"http://vine.co\" rel=\"nofollow\">Vine - Make a Scene</a>',\n",
       "       '<a href=\"https://about.twitter.com/products/tweetdeck\" rel=\"nofollow\">TweetDeck</a>'],\n",
       "      dtype=object)"
      ]
     },
     "execution_count": 9,
     "metadata": {},
     "output_type": "execute_result"
    }
   ],
   "source": [
    "# Only 4 unique source values -- let's investigate.\n",
    "df_tweets.source.unique()"
   ]
  },
  {
   "cell_type": "markdown",
   "metadata": {},
   "source": [
    "* The `source` field contains two separate variables: source url and source title, which together could be thought of as forming a separate observational unit type. The rest of the content is the same between the four unique values for `source`."
   ]
  },
  {
   "cell_type": "markdown",
   "metadata": {},
   "source": [
    "* We could think of rating as one value (rating_numerator divided by rating_denominator), but there may be something of interest in the particular denominator and numerator choices. It is not clear to me if this separation should be considered a violation of tidy data's requirement of a one-to-one mapping between columns and variables."
   ]
  },
  {
   "cell_type": "markdown",
   "metadata": {},
   "source": [
    "> The `doggo`, `floofer`, `pupper`, and `puppo` fields perhaps are values rather than variables. The variable would be something like `dog_type`. That's assuming that every dog has at most one category associated with it. Let's test that proposition."
   ]
  },
  {
   "cell_type": "code",
   "execution_count": 10,
   "metadata": {},
   "outputs": [
    {
     "data": {
      "text/plain": [
       "array(['', 'doggo', 'puppo', 'pupper', 'floofer', 'doggopuppo',\n",
       "       'doggofloofer', 'doggopupper'], dtype=object)"
      ]
     },
     "execution_count": 10,
     "metadata": {},
     "output_type": "execute_result"
    }
   ],
   "source": [
    "(df_tweets[['doggo', 'floofer', 'pupper', 'puppo']]\n",
    " .replace('None', '')\n",
    " .apply(lambda row: ''.join(map(str, list(row.values))), axis=1)\n",
    ").unique()"
   ]
  },
  {
   "cell_type": "markdown",
   "metadata": {},
   "source": [
    "> Ok, it turns out that some dogs have more than one type. Hence, these columns are separate variables."
   ]
  },
  {
   "cell_type": "markdown",
   "metadata": {},
   "source": [
    "### df_predictions"
   ]
  },
  {
   "cell_type": "code",
   "execution_count": 11,
   "metadata": {},
   "outputs": [
    {
     "name": "stdout",
     "output_type": "stream",
     "text": [
      "<class 'pandas.core.frame.DataFrame'>\n",
      "RangeIndex: 2075 entries, 0 to 2074\n",
      "Data columns (total 12 columns):\n",
      "tweet_id    2075 non-null int64\n",
      "jpg_url     2075 non-null object\n",
      "img_num     2075 non-null int64\n",
      "p1          2075 non-null object\n",
      "p1_conf     2075 non-null float64\n",
      "p1_dog      2075 non-null bool\n",
      "p2          2075 non-null object\n",
      "p2_conf     2075 non-null float64\n",
      "p2_dog      2075 non-null bool\n",
      "p3          2075 non-null object\n",
      "p3_conf     2075 non-null float64\n",
      "p3_dog      2075 non-null bool\n",
      "dtypes: bool(3), float64(3), int64(2), object(4)\n",
      "memory usage: 152.1+ KB\n"
     ]
    }
   ],
   "source": [
    "df_predictions.info()"
   ]
  },
  {
   "cell_type": "code",
   "execution_count": 12,
   "metadata": {},
   "outputs": [
    {
     "data": {
      "text/plain": [
       "tweet_id    2075\n",
       "jpg_url     2009\n",
       "img_num        4\n",
       "p1           378\n",
       "p1_conf     2006\n",
       "p1_dog         2\n",
       "p2           405\n",
       "p2_conf     2004\n",
       "p2_dog         2\n",
       "p3           408\n",
       "p3_conf     2006\n",
       "p3_dog         2\n",
       "dtype: int64"
      ]
     },
     "execution_count": 12,
     "metadata": {},
     "output_type": "execute_result"
    }
   ],
   "source": [
    "df_predictions.nunique()"
   ]
  },
  {
   "cell_type": "code",
   "execution_count": 13,
   "metadata": {
    "scrolled": true
   },
   "outputs": [
    {
     "data": {
      "text/html": [
       "<div>\n",
       "<style scoped>\n",
       "    .dataframe tbody tr th:only-of-type {\n",
       "        vertical-align: middle;\n",
       "    }\n",
       "\n",
       "    .dataframe tbody tr th {\n",
       "        vertical-align: top;\n",
       "    }\n",
       "\n",
       "    .dataframe thead th {\n",
       "        text-align: right;\n",
       "    }\n",
       "</style>\n",
       "<table border=\"1\" class=\"dataframe\">\n",
       "  <thead>\n",
       "    <tr style=\"text-align: right;\">\n",
       "      <th></th>\n",
       "      <th>tweet_id</th>\n",
       "      <th>jpg_url</th>\n",
       "      <th>img_num</th>\n",
       "      <th>p1</th>\n",
       "      <th>p1_conf</th>\n",
       "      <th>p1_dog</th>\n",
       "      <th>p2</th>\n",
       "      <th>p2_conf</th>\n",
       "      <th>p2_dog</th>\n",
       "      <th>p3</th>\n",
       "      <th>p3_conf</th>\n",
       "      <th>p3_dog</th>\n",
       "    </tr>\n",
       "  </thead>\n",
       "  <tbody>\n",
       "    <tr>\n",
       "      <th>739</th>\n",
       "      <td>687127927494963200</td>\n",
       "      <td>https://pbs.twimg.com/media/CYkrNIVWcAMswmP.jpg</td>\n",
       "      <td>1</td>\n",
       "      <td>pug</td>\n",
       "      <td>0.178205</td>\n",
       "      <td>True</td>\n",
       "      <td>Chihuahua</td>\n",
       "      <td>0.149164</td>\n",
       "      <td>True</td>\n",
       "      <td>Shih-Tzu</td>\n",
       "      <td>0.120505</td>\n",
       "      <td>True</td>\n",
       "    </tr>\n",
       "    <tr>\n",
       "      <th>1905</th>\n",
       "      <td>852226086759018497</td>\n",
       "      <td>https://pbs.twimg.com/ext_tw_video_thumb/85222...</td>\n",
       "      <td>1</td>\n",
       "      <td>prison</td>\n",
       "      <td>0.352793</td>\n",
       "      <td>False</td>\n",
       "      <td>dishwasher</td>\n",
       "      <td>0.110723</td>\n",
       "      <td>False</td>\n",
       "      <td>file</td>\n",
       "      <td>0.094112</td>\n",
       "      <td>False</td>\n",
       "    </tr>\n",
       "    <tr>\n",
       "      <th>495</th>\n",
       "      <td>675740360753160193</td>\n",
       "      <td>https://pbs.twimg.com/ext_tw_video_thumb/67574...</td>\n",
       "      <td>1</td>\n",
       "      <td>golden_retriever</td>\n",
       "      <td>0.800495</td>\n",
       "      <td>True</td>\n",
       "      <td>kuvasz</td>\n",
       "      <td>0.097756</td>\n",
       "      <td>True</td>\n",
       "      <td>Saluki</td>\n",
       "      <td>0.068415</td>\n",
       "      <td>True</td>\n",
       "    </tr>\n",
       "    <tr>\n",
       "      <th>791</th>\n",
       "      <td>690690673629138944</td>\n",
       "      <td>https://pbs.twimg.com/media/CZXTgKkWwAA5UZJ.jpg</td>\n",
       "      <td>1</td>\n",
       "      <td>bath_towel</td>\n",
       "      <td>0.194532</td>\n",
       "      <td>False</td>\n",
       "      <td>radiator</td>\n",
       "      <td>0.127776</td>\n",
       "      <td>False</td>\n",
       "      <td>Maltese_dog</td>\n",
       "      <td>0.089625</td>\n",
       "      <td>True</td>\n",
       "    </tr>\n",
       "  </tbody>\n",
       "</table>\n",
       "</div>"
      ],
      "text/plain": [
       "                tweet_id                                            jpg_url  \\\n",
       "739   687127927494963200    https://pbs.twimg.com/media/CYkrNIVWcAMswmP.jpg   \n",
       "1905  852226086759018497  https://pbs.twimg.com/ext_tw_video_thumb/85222...   \n",
       "495   675740360753160193  https://pbs.twimg.com/ext_tw_video_thumb/67574...   \n",
       "791   690690673629138944    https://pbs.twimg.com/media/CZXTgKkWwAA5UZJ.jpg   \n",
       "\n",
       "      img_num                p1   p1_conf  p1_dog          p2   p2_conf  \\\n",
       "739         1               pug  0.178205    True   Chihuahua  0.149164   \n",
       "1905        1            prison  0.352793   False  dishwasher  0.110723   \n",
       "495         1  golden_retriever  0.800495    True      kuvasz  0.097756   \n",
       "791         1        bath_towel  0.194532   False    radiator  0.127776   \n",
       "\n",
       "      p2_dog           p3   p3_conf  p3_dog  \n",
       "739     True     Shih-Tzu  0.120505    True  \n",
       "1905   False         file  0.094112   False  \n",
       "495     True       Saluki  0.068415    True  \n",
       "791    False  Maltese_dog  0.089625    True  "
      ]
     },
     "execution_count": 13,
     "metadata": {},
     "output_type": "execute_result"
    }
   ],
   "source": [
    "df_predictions.sample(4)"
   ]
  },
  {
   "cell_type": "markdown",
   "metadata": {},
   "source": [
    "* The nine fields for p1, p2, and p3 can be mapped to just four variables: predicted_label, prediction_confidence, predicted_is_dog, and prediction_num (holding a value of 1, 2, or 3).\n",
    "* Alternatively, we could see each observational unit here as summary data about each tweet, which matches the observational unit type of `df_tweets`."
   ]
  },
  {
   "cell_type": "markdown",
   "metadata": {},
   "source": [
    "### df_json"
   ]
  },
  {
   "cell_type": "code",
   "execution_count": 14,
   "metadata": {},
   "outputs": [
    {
     "name": "stdout",
     "output_type": "stream",
     "text": [
      "<class 'pandas.core.frame.DataFrame'>\n",
      "RangeIndex: 2342 entries, 0 to 2341\n",
      "Data columns (total 3 columns):\n",
      "id                2342 non-null int64\n",
      "favorite_count    2342 non-null int64\n",
      "retweet_count     2342 non-null int64\n",
      "dtypes: int64(3)\n",
      "memory usage: 55.0 KB\n"
     ]
    }
   ],
   "source": [
    "df_json.info()"
   ]
  },
  {
   "cell_type": "markdown",
   "metadata": {},
   "source": [
    "* `df_json` and `df_tweets` are of the same observational unit type -- summary data about a tweet."
   ]
  },
  {
   "cell_type": "markdown",
   "metadata": {},
   "source": [
    "## Summary\n",
    "\n",
    "### df_tweets\n",
    "\n",
    "* The `source` field contains two separate variables: source url and source title, which together could be thought of as forming a separate observational unit type. The rest of the content is the same between the four unique values for `source`. However, it's not clear that making a change here makes any subsequent analysis more convenient.\n",
    "* We could think of rating as one value (`rating_numerator` divided by `rating_denominator`), but there may be something of interest in the particular denominator and numerator choices.\n",
    "\n",
    "### df_predictions\n",
    "\n",
    "* The nine fields for `p1`, `p2`, and `p3` can be mapped to just four variables: predicted_label, prediction_confidence, predicted_is_dog, and prediction_num (holding a value of 1, 2, or 3).\n",
    "* Alternatively, we could see each observational unit here as summary data about each tweet, which matches the observational unit type of `df_tweets`.\n",
    "\n",
    "### df_json\n",
    "\n",
    "* `df_json` and `df_tweets` are of the same observational unit type -- summary data about a tweet.\n"
   ]
  },
  {
   "cell_type": "markdown",
   "metadata": {},
   "source": [
    "## Clean\n",
    "\n",
    "### df_tweets\n",
    "\n",
    "* Create a new field called `rating` from `rating_numerator` / `rating_denominator`, while still retaining those individual fields."
   ]
  },
  {
   "cell_type": "code",
   "execution_count": 15,
   "metadata": {},
   "outputs": [
    {
     "data": {
      "text/plain": [
       "array([0.00000000e+00, 1.00000000e-01, 2.00000000e-01, 3.00000000e-01,\n",
       "       4.00000000e-01, 5.00000000e-01, 6.00000000e-01, 6.36363636e-01,\n",
       "       7.00000000e-01, 7.33333333e-01, 8.00000000e-01, 8.18181818e-01,\n",
       "       9.00000000e-01, 1.00000000e+00, 1.10000000e+00, 1.20000000e+00,\n",
       "       1.25000000e+00, 1.30000000e+00, 1.40000000e+00, 1.50000000e+00,\n",
       "       1.70000000e+00, 2.60000000e+00, 2.70000000e+00, 3.42857143e+00,\n",
       "       7.50000000e+00, 1.82000000e+01, 4.20000000e+01, 6.66000000e+01,\n",
       "       1.77600000e+02,            inf])"
      ]
     },
     "execution_count": 15,
     "metadata": {},
     "output_type": "execute_result"
    }
   ],
   "source": [
    "df_tweets_tidy = df_tweets.copy()\n",
    "df_tweets_tidy['rating'] = (\n",
    "    df_tweets_tidy['rating_numerator'] / df_tweets_tidy['rating_denominator']\n",
    ")\n",
    "np.array(sorted(df_tweets_tidy.rating.unique()))"
   ]
  },
  {
   "cell_type": "markdown",
   "metadata": {},
   "source": [
    "### df_predictions\n",
    "\n",
    "* Merge `df_predictions` with `df_tweets`."
   ]
  },
  {
   "cell_type": "code",
   "execution_count": 16,
   "metadata": {},
   "outputs": [
    {
     "name": "stdout",
     "output_type": "stream",
     "text": [
      "<class 'pandas.core.frame.DataFrame'>\n",
      "Int64Index: 2356 entries, 0 to 2355\n",
      "Data columns (total 29 columns):\n",
      "tweet_id                      2356 non-null int64\n",
      "in_reply_to_status_id         78 non-null float64\n",
      "in_reply_to_user_id           78 non-null float64\n",
      "timestamp                     2356 non-null object\n",
      "source                        2356 non-null object\n",
      "text                          2356 non-null object\n",
      "retweeted_status_id           181 non-null float64\n",
      "retweeted_status_user_id      181 non-null float64\n",
      "retweeted_status_timestamp    181 non-null object\n",
      "expanded_urls                 2297 non-null object\n",
      "rating_numerator              2356 non-null int64\n",
      "rating_denominator            2356 non-null int64\n",
      "name                          2356 non-null object\n",
      "doggo                         2356 non-null object\n",
      "floofer                       2356 non-null object\n",
      "pupper                        2356 non-null object\n",
      "puppo                         2356 non-null object\n",
      "rating                        2356 non-null float64\n",
      "jpg_url                       2075 non-null object\n",
      "img_num                       2075 non-null float64\n",
      "p1                            2075 non-null object\n",
      "p1_conf                       2075 non-null float64\n",
      "p1_dog                        2075 non-null object\n",
      "p2                            2075 non-null object\n",
      "p2_conf                       2075 non-null float64\n",
      "p2_dog                        2075 non-null object\n",
      "p3                            2075 non-null object\n",
      "p3_conf                       2075 non-null float64\n",
      "p3_dog                        2075 non-null object\n",
      "dtypes: float64(9), int64(3), object(17)\n",
      "memory usage: 552.2+ KB\n"
     ]
    }
   ],
   "source": [
    "df_tweets_tidy = df_tweets_tidy.merge(df_predictions, how='left')\n",
    "df_tweets_tidy.info()"
   ]
  },
  {
   "cell_type": "markdown",
   "metadata": {},
   "source": [
    "### df_json\n",
    "\n",
    "* Merge `df_json` with `df_tweets`."
   ]
  },
  {
   "cell_type": "code",
   "execution_count": 17,
   "metadata": {},
   "outputs": [
    {
     "name": "stdout",
     "output_type": "stream",
     "text": [
      "<class 'pandas.core.frame.DataFrame'>\n",
      "Int64Index: 2356 entries, 0 to 2355\n",
      "Data columns (total 31 columns):\n",
      "tweet_id                      2356 non-null int64\n",
      "in_reply_to_status_id         78 non-null float64\n",
      "in_reply_to_user_id           78 non-null float64\n",
      "timestamp                     2356 non-null object\n",
      "source                        2356 non-null object\n",
      "text                          2356 non-null object\n",
      "retweeted_status_id           181 non-null float64\n",
      "retweeted_status_user_id      181 non-null float64\n",
      "retweeted_status_timestamp    181 non-null object\n",
      "expanded_urls                 2297 non-null object\n",
      "rating_numerator              2356 non-null int64\n",
      "rating_denominator            2356 non-null int64\n",
      "name                          2356 non-null object\n",
      "doggo                         2356 non-null object\n",
      "floofer                       2356 non-null object\n",
      "pupper                        2356 non-null object\n",
      "puppo                         2356 non-null object\n",
      "rating                        2356 non-null float64\n",
      "jpg_url                       2075 non-null object\n",
      "img_num                       2075 non-null float64\n",
      "p1                            2075 non-null object\n",
      "p1_conf                       2075 non-null float64\n",
      "p1_dog                        2075 non-null object\n",
      "p2                            2075 non-null object\n",
      "p2_conf                       2075 non-null float64\n",
      "p2_dog                        2075 non-null object\n",
      "p3                            2075 non-null object\n",
      "p3_conf                       2075 non-null float64\n",
      "p3_dog                        2075 non-null object\n",
      "favorite_count                2342 non-null float64\n",
      "retweet_count                 2342 non-null float64\n",
      "dtypes: float64(11), int64(3), object(17)\n",
      "memory usage: 589.0+ KB\n"
     ]
    }
   ],
   "source": [
    "df_tweets_tidy = df_tweets_tidy.merge(\n",
    "    df_json.rename(columns={'id': 'tweet_id'}), how='left'\n",
    ")\n",
    "df_tweets_tidy.info()"
   ]
  },
  {
   "cell_type": "markdown",
   "metadata": {},
   "source": [
    "# Quality\n",
    "\n",
    "## Assess"
   ]
  },
  {
   "cell_type": "markdown",
   "metadata": {},
   "source": [
    "* According to the project requirements and mentor clarification in the Student Hub (https://bit.ly/2AEXRlQ), both retweets and replies are not needed. Thus, any rows with non-null values in the following columns are unnecessary (and the columns could then be dropped): `in_reply_to_status_id`, `in_reply_to_user_id`, `retweeted_status_id`, `retweeted_status_user_id`, and `retweeted_status_timestamp`."
   ]
  },
  {
   "cell_type": "code",
   "execution_count": 18,
   "metadata": {},
   "outputs": [
    {
     "data": {
      "text/plain": [
       "dtype('O')"
      ]
     },
     "execution_count": 18,
     "metadata": {},
     "output_type": "execute_result"
    }
   ],
   "source": [
    "# Check if timestamp is in a date format.\n",
    "df_tweets_tidy.timestamp.dtype"
   ]
  },
  {
   "cell_type": "markdown",
   "metadata": {},
   "source": [
    "* The date type of `timestamp` is not a date format."
   ]
  },
  {
   "cell_type": "code",
   "execution_count": 19,
   "metadata": {
    "scrolled": true
   },
   "outputs": [
    {
     "data": {
      "text/plain": [
       "('2015-11-15 22:32:08 +0000', '2017-08-01 16:23:56 +0000')"
      ]
     },
     "execution_count": 19,
     "metadata": {},
     "output_type": "execute_result"
    }
   ],
   "source": [
    "# Check if timestamps fall within a reasonable timeframe.\n",
    "df_tweets_tidy.timestamp.min(), df_tweets_tidy.timestamp.max()"
   ]
  },
  {
   "cell_type": "markdown",
   "metadata": {},
   "source": [
    "> Yes, these are acceptable dates."
   ]
  },
  {
   "cell_type": "code",
   "execution_count": 20,
   "metadata": {},
   "outputs": [
    {
     "data": {
      "text/plain": [
       "0"
      ]
     },
     "execution_count": 20,
     "metadata": {},
     "output_type": "execute_result"
    }
   ],
   "source": [
    "# Are any of the dates in a different format?\n",
    "date_format_regex = '^201[567]-[\\d]{2}-[\\d]{2} [\\d]{2}:[\\d]{2}:[\\d]{2} \\+0000$'\n",
    "(~df_tweets_tidy.timestamp.str.contains(date_format_regex)).sum()"
   ]
  },
  {
   "cell_type": "markdown",
   "metadata": {},
   "source": [
    "> No other date formats to worry about here."
   ]
  },
  {
   "cell_type": "code",
   "execution_count": 21,
   "metadata": {},
   "outputs": [
    {
     "data": {
      "text/plain": [
       "array(['<a href=\"http://twitter.com/download/iphone\" rel=\"nofollow\">Twitter for iPhone</a>',\n",
       "       '<a href=\"http://twitter.com\" rel=\"nofollow\">Twitter Web Client</a>',\n",
       "       '<a href=\"http://vine.co\" rel=\"nofollow\">Vine - Make a Scene</a>',\n",
       "       '<a href=\"https://about.twitter.com/products/tweetdeck\" rel=\"nofollow\">TweetDeck</a>'],\n",
       "      dtype=object)"
      ]
     },
     "execution_count": 21,
     "metadata": {},
     "output_type": "execute_result"
    }
   ],
   "source": [
    "df_tweets_tidy.source.unique()"
   ]
  },
  {
   "cell_type": "markdown",
   "metadata": {},
   "source": [
    "* There are only 4 possible values for `source`. A categorical data type might be a good idea here."
   ]
  },
  {
   "cell_type": "code",
   "execution_count": 22,
   "metadata": {},
   "outputs": [
    {
     "data": {
      "text/plain": [
       "None       745\n",
       "a           55\n",
       "Charlie     12\n",
       "Oliver      11\n",
       "Cooper      11\n",
       "Lucy        11\n",
       "Penny       10\n",
       "Tucker      10\n",
       "Lola        10\n",
       "Bo           9\n",
       "Name: name, dtype: int64"
      ]
     },
     "execution_count": 22,
     "metadata": {},
     "output_type": "execute_result"
    }
   ],
   "source": [
    "# Check on name column values.\n",
    "df_tweets_tidy.name.value_counts()[:10]"
   ]
  },
  {
   "cell_type": "markdown",
   "metadata": {},
   "source": [
    "* The column name for the dog's name is `name`, which is not very explicit in meaning.\n",
    "\n",
    "* `None` is being used instead of null here. And there are a lot of nulls.\n",
    "\n",
    "* The `a` name does not seem correct. Perhaps some mistakes were made with extracting names from tweets. Let's investigate this issue a little more."
   ]
  },
  {
   "cell_type": "code",
   "execution_count": 23,
   "metadata": {},
   "outputs": [
    {
     "data": {
      "text/plain": [
       "array(['Here is a pupper approaching maximum borkdrive. Zooming at never before seen speeds. 14/10 paw-inspiring af \\n(IG: puffie_the_chow) https://t.co/ghXBIIeQZF',\n",
       "       'Here is a perfect example of someone who has their priorities in order. 13/10 for both owner and Forrest https://t.co/LRyMrU7Wfq',\n",
       "       'Guys this is getting so out of hand. We only rate dogs. This is a Galapagos Speed Panda. Pls only send dogs... 10/10 https://t.co/8lpAGaZRFn',\n",
       "       'This is a mighty rare blue-tailed hammer sherk. Human almost lost a limb trying to take these. Be careful guys. 8/10 https://t.co/TGenMeXreW',\n",
       "       'Viewer discretion is advised. This is a terrible attack in progress. Not even in water (tragic af). 4/10 bad sherk https://t.co/L3U0j14N5R'],\n",
       "      dtype=object)"
      ]
     },
     "execution_count": 23,
     "metadata": {},
     "output_type": "execute_result"
    }
   ],
   "source": [
    "df_tweets_tidy[df_tweets_tidy.name == 'a'].text.head(5).unique()"
   ]
  },
  {
   "cell_type": "markdown",
   "metadata": {},
   "source": [
    "* Apparently in some cases the name was missed in extraction (\"Forrest\"), and in some cases there is actually no name given in the tweet. This would be worth investigating more if we care a lot about using the `name` field for our analysis later, but could entail a lot of unnecessary work if not."
   ]
  },
  {
   "cell_type": "code",
   "execution_count": 24,
   "metadata": {},
   "outputs": [
    {
     "data": {
      "text/html": [
       "<div>\n",
       "<style scoped>\n",
       "    .dataframe tbody tr th:only-of-type {\n",
       "        vertical-align: middle;\n",
       "    }\n",
       "\n",
       "    .dataframe tbody tr th {\n",
       "        vertical-align: top;\n",
       "    }\n",
       "\n",
       "    .dataframe thead th {\n",
       "        text-align: right;\n",
       "    }\n",
       "</style>\n",
       "<table border=\"1\" class=\"dataframe\">\n",
       "  <thead>\n",
       "    <tr style=\"text-align: right;\">\n",
       "      <th></th>\n",
       "      <th>doggo</th>\n",
       "      <th>floofer</th>\n",
       "      <th>pupper</th>\n",
       "      <th>puppo</th>\n",
       "    </tr>\n",
       "  </thead>\n",
       "  <tbody>\n",
       "    <tr>\n",
       "      <th>0</th>\n",
       "      <td>None</td>\n",
       "      <td>None</td>\n",
       "      <td>None</td>\n",
       "      <td>None</td>\n",
       "    </tr>\n",
       "    <tr>\n",
       "      <th>1</th>\n",
       "      <td>None</td>\n",
       "      <td>None</td>\n",
       "      <td>None</td>\n",
       "      <td>None</td>\n",
       "    </tr>\n",
       "    <tr>\n",
       "      <th>2</th>\n",
       "      <td>None</td>\n",
       "      <td>None</td>\n",
       "      <td>None</td>\n",
       "      <td>None</td>\n",
       "    </tr>\n",
       "    <tr>\n",
       "      <th>3</th>\n",
       "      <td>None</td>\n",
       "      <td>None</td>\n",
       "      <td>None</td>\n",
       "      <td>None</td>\n",
       "    </tr>\n",
       "    <tr>\n",
       "      <th>4</th>\n",
       "      <td>None</td>\n",
       "      <td>None</td>\n",
       "      <td>None</td>\n",
       "      <td>None</td>\n",
       "    </tr>\n",
       "  </tbody>\n",
       "</table>\n",
       "</div>"
      ],
      "text/plain": [
       "  doggo floofer pupper puppo\n",
       "0  None    None   None  None\n",
       "1  None    None   None  None\n",
       "2  None    None   None  None\n",
       "3  None    None   None  None\n",
       "4  None    None   None  None"
      ]
     },
     "execution_count": 24,
     "metadata": {},
     "output_type": "execute_result"
    }
   ],
   "source": [
    "df_tweets_tidy[['doggo', 'floofer', 'pupper', 'puppo']].head(5)"
   ]
  },
  {
   "cell_type": "markdown",
   "metadata": {},
   "source": [
    "* The dog type column values contain the string `None` for null."
   ]
  },
  {
   "cell_type": "code",
   "execution_count": 25,
   "metadata": {},
   "outputs": [
    {
     "data": {
      "text/html": [
       "<div>\n",
       "<style scoped>\n",
       "    .dataframe tbody tr th:only-of-type {\n",
       "        vertical-align: middle;\n",
       "    }\n",
       "\n",
       "    .dataframe tbody tr th {\n",
       "        vertical-align: top;\n",
       "    }\n",
       "\n",
       "    .dataframe thead th {\n",
       "        text-align: right;\n",
       "    }\n",
       "</style>\n",
       "<table border=\"1\" class=\"dataframe\">\n",
       "  <thead>\n",
       "    <tr style=\"text-align: right;\">\n",
       "      <th></th>\n",
       "      <th>doggo</th>\n",
       "      <th>floofer</th>\n",
       "      <th>pupper</th>\n",
       "      <th>puppo</th>\n",
       "    </tr>\n",
       "  </thead>\n",
       "  <tbody>\n",
       "    <tr>\n",
       "      <th>9</th>\n",
       "      <td>doggo</td>\n",
       "      <td>NaN</td>\n",
       "      <td>NaN</td>\n",
       "      <td>NaN</td>\n",
       "    </tr>\n",
       "    <tr>\n",
       "      <th>12</th>\n",
       "      <td>NaN</td>\n",
       "      <td>NaN</td>\n",
       "      <td>NaN</td>\n",
       "      <td>puppo</td>\n",
       "    </tr>\n",
       "    <tr>\n",
       "      <th>14</th>\n",
       "      <td>NaN</td>\n",
       "      <td>NaN</td>\n",
       "      <td>NaN</td>\n",
       "      <td>puppo</td>\n",
       "    </tr>\n",
       "    <tr>\n",
       "      <th>29</th>\n",
       "      <td>NaN</td>\n",
       "      <td>NaN</td>\n",
       "      <td>pupper</td>\n",
       "      <td>NaN</td>\n",
       "    </tr>\n",
       "    <tr>\n",
       "      <th>43</th>\n",
       "      <td>doggo</td>\n",
       "      <td>NaN</td>\n",
       "      <td>NaN</td>\n",
       "      <td>NaN</td>\n",
       "    </tr>\n",
       "    <tr>\n",
       "      <th>46</th>\n",
       "      <td>NaN</td>\n",
       "      <td>floofer</td>\n",
       "      <td>NaN</td>\n",
       "      <td>NaN</td>\n",
       "    </tr>\n",
       "    <tr>\n",
       "      <th>49</th>\n",
       "      <td>NaN</td>\n",
       "      <td>NaN</td>\n",
       "      <td>pupper</td>\n",
       "      <td>NaN</td>\n",
       "    </tr>\n",
       "    <tr>\n",
       "      <th>56</th>\n",
       "      <td>NaN</td>\n",
       "      <td>NaN</td>\n",
       "      <td>pupper</td>\n",
       "      <td>NaN</td>\n",
       "    </tr>\n",
       "    <tr>\n",
       "      <th>71</th>\n",
       "      <td>NaN</td>\n",
       "      <td>NaN</td>\n",
       "      <td>NaN</td>\n",
       "      <td>puppo</td>\n",
       "    </tr>\n",
       "    <tr>\n",
       "      <th>78</th>\n",
       "      <td>NaN</td>\n",
       "      <td>NaN</td>\n",
       "      <td>pupper</td>\n",
       "      <td>NaN</td>\n",
       "    </tr>\n",
       "  </tbody>\n",
       "</table>\n",
       "</div>"
      ],
      "text/plain": [
       "    doggo  floofer  pupper  puppo\n",
       "9   doggo      NaN     NaN    NaN\n",
       "12    NaN      NaN     NaN  puppo\n",
       "14    NaN      NaN     NaN  puppo\n",
       "29    NaN      NaN  pupper    NaN\n",
       "43  doggo      NaN     NaN    NaN\n",
       "46    NaN  floofer     NaN    NaN\n",
       "49    NaN      NaN  pupper    NaN\n",
       "56    NaN      NaN  pupper    NaN\n",
       "71    NaN      NaN     NaN  puppo\n",
       "78    NaN      NaN  pupper    NaN"
      ]
     },
     "execution_count": 25,
     "metadata": {},
     "output_type": "execute_result"
    }
   ],
   "source": [
    "df_tweets_tidy[['doggo', 'floofer', 'pupper', 'puppo']].replace('None', np.NaN).dropna(thresh=1)[:10]"
   ]
  },
  {
   "cell_type": "markdown",
   "metadata": {},
   "source": [
    "* The dog type column values contain `doggo` etc for the non-null values (redundant). These columns could be simplified to have a boolean data type."
   ]
  },
  {
   "cell_type": "code",
   "execution_count": 26,
   "metadata": {},
   "outputs": [
    {
     "data": {
      "text/html": [
       "<div>\n",
       "<style scoped>\n",
       "    .dataframe tbody tr th:only-of-type {\n",
       "        vertical-align: middle;\n",
       "    }\n",
       "\n",
       "    .dataframe tbody tr th {\n",
       "        vertical-align: top;\n",
       "    }\n",
       "\n",
       "    .dataframe thead tr th {\n",
       "        text-align: left;\n",
       "    }\n",
       "</style>\n",
       "<table border=\"1\" class=\"dataframe\">\n",
       "  <thead>\n",
       "    <tr>\n",
       "      <th>rating_denominator</th>\n",
       "      <th>0</th>\n",
       "      <th>2</th>\n",
       "      <th>7</th>\n",
       "      <th colspan=\"24\" halign=\"left\">10</th>\n",
       "      <th colspan=\"2\" halign=\"left\">11</th>\n",
       "      <th>15</th>\n",
       "      <th>16</th>\n",
       "      <th>20</th>\n",
       "      <th>40</th>\n",
       "      <th colspan=\"3\" halign=\"left\">50</th>\n",
       "      <th>70</th>\n",
       "      <th colspan=\"2\" halign=\"left\">80</th>\n",
       "      <th>90</th>\n",
       "      <th>110</th>\n",
       "      <th>120</th>\n",
       "      <th>130</th>\n",
       "      <th>150</th>\n",
       "      <th>170</th>\n",
       "    </tr>\n",
       "    <tr>\n",
       "      <th>rating_numerator</th>\n",
       "      <th>960</th>\n",
       "      <th>1</th>\n",
       "      <th>24</th>\n",
       "      <th>0</th>\n",
       "      <th>1</th>\n",
       "      <th>2</th>\n",
       "      <th>3</th>\n",
       "      <th>4</th>\n",
       "      <th>5</th>\n",
       "      <th>6</th>\n",
       "      <th>7</th>\n",
       "      <th>8</th>\n",
       "      <th>9</th>\n",
       "      <th>10</th>\n",
       "      <th>11</th>\n",
       "      <th>12</th>\n",
       "      <th>13</th>\n",
       "      <th>14</th>\n",
       "      <th>15</th>\n",
       "      <th>17</th>\n",
       "      <th>26</th>\n",
       "      <th>27</th>\n",
       "      <th>75</th>\n",
       "      <th>182</th>\n",
       "      <th>420</th>\n",
       "      <th>666</th>\n",
       "      <th>1776</th>\n",
       "      <th>7</th>\n",
       "      <th>9</th>\n",
       "      <th>11</th>\n",
       "      <th>20</th>\n",
       "      <th>4</th>\n",
       "      <th>44</th>\n",
       "      <th>45</th>\n",
       "      <th>50</th>\n",
       "      <th>60</th>\n",
       "      <th>84</th>\n",
       "      <th>80</th>\n",
       "      <th>88</th>\n",
       "      <th>99</th>\n",
       "      <th>121</th>\n",
       "      <th>144</th>\n",
       "      <th>143</th>\n",
       "      <th>165</th>\n",
       "      <th>204</th>\n",
       "    </tr>\n",
       "  </thead>\n",
       "  <tbody>\n",
       "    <tr>\n",
       "      <th>count</th>\n",
       "      <td>1</td>\n",
       "      <td>1</td>\n",
       "      <td>1</td>\n",
       "      <td>2</td>\n",
       "      <td>8</td>\n",
       "      <td>9</td>\n",
       "      <td>19</td>\n",
       "      <td>15</td>\n",
       "      <td>37</td>\n",
       "      <td>32</td>\n",
       "      <td>54</td>\n",
       "      <td>102</td>\n",
       "      <td>156</td>\n",
       "      <td>461</td>\n",
       "      <td>463</td>\n",
       "      <td>558</td>\n",
       "      <td>351</td>\n",
       "      <td>54</td>\n",
       "      <td>2</td>\n",
       "      <td>1</td>\n",
       "      <td>1</td>\n",
       "      <td>1</td>\n",
       "      <td>2</td>\n",
       "      <td>1</td>\n",
       "      <td>2</td>\n",
       "      <td>1</td>\n",
       "      <td>1</td>\n",
       "      <td>1</td>\n",
       "      <td>2</td>\n",
       "      <td>1</td>\n",
       "      <td>1</td>\n",
       "      <td>2</td>\n",
       "      <td>1</td>\n",
       "      <td>1</td>\n",
       "      <td>1</td>\n",
       "      <td>1</td>\n",
       "      <td>1</td>\n",
       "      <td>1</td>\n",
       "      <td>1</td>\n",
       "      <td>1</td>\n",
       "      <td>1</td>\n",
       "      <td>1</td>\n",
       "      <td>1</td>\n",
       "      <td>1</td>\n",
       "      <td>1</td>\n",
       "    </tr>\n",
       "  </tbody>\n",
       "</table>\n",
       "</div>"
      ],
      "text/plain": [
       "rating_denominator  0    2    7    10                                      \\\n",
       "rating_numerator   960  1    24   0    1    2    3    4    5    6    7      \n",
       "count                 1    1    1    2    8    9   19   15   37   32   54   \n",
       "\n",
       "rating_denominator                                                         \\\n",
       "rating_numerator   8    9    10   11   12   13   14   15   17   26   27     \n",
       "count               102  156  461  463  558  351   54    2    1    1    1   \n",
       "\n",
       "rating_denominator                           11        15   16   20   40   \\\n",
       "rating_numerator   75   182  420  666  1776 7    9    11   20   4    44     \n",
       "count                 2    1    2    1    1    1    2    1    1    2    1   \n",
       "\n",
       "rating_denominator  50             70   80        90   110  120  130  150  170  \n",
       "rating_numerator   45   50   60   84   80   88   99   121  144  143  165  204   \n",
       "count                 1    1    1    1    1    1    1    1    1    1    1    1  "
      ]
     },
     "execution_count": 26,
     "metadata": {},
     "output_type": "execute_result"
    }
   ],
   "source": [
    "# Let's take a look at the ratings.\n",
    "pd.options.display.max_columns = 100\n",
    "(df_tweets_tidy[['rating_numerator', 'rating_denominator', 'tweet_id']]\n",
    " .groupby(['rating_denominator', 'rating_numerator'])\n",
    " .count().rename(columns={'tweet_id': 'count'}).T\n",
    ")"
   ]
  },
  {
   "cell_type": "code",
   "execution_count": 27,
   "metadata": {},
   "outputs": [
    {
     "data": {
      "text/html": [
       "<div>\n",
       "<style scoped>\n",
       "    .dataframe tbody tr th:only-of-type {\n",
       "        vertical-align: middle;\n",
       "    }\n",
       "\n",
       "    .dataframe tbody tr th {\n",
       "        vertical-align: top;\n",
       "    }\n",
       "\n",
       "    .dataframe thead th {\n",
       "        text-align: right;\n",
       "    }\n",
       "</style>\n",
       "<table border=\"1\" class=\"dataframe\">\n",
       "  <thead>\n",
       "    <tr style=\"text-align: right;\">\n",
       "      <th></th>\n",
       "      <th>rating_numerator</th>\n",
       "      <th>rating_denominator</th>\n",
       "      <th>tweet_id</th>\n",
       "      <th>text</th>\n",
       "      <th>sanity_numerator</th>\n",
       "      <th>sanity_denominator</th>\n",
       "    </tr>\n",
       "  </thead>\n",
       "  <tbody>\n",
       "    <tr>\n",
       "      <th>45</th>\n",
       "      <td>5</td>\n",
       "      <td>10</td>\n",
       "      <td>883482846933004288</td>\n",
       "      <td>This is Bella. She hopes her smile made you sm...</td>\n",
       "      <td>13.5</td>\n",
       "      <td>10</td>\n",
       "    </tr>\n",
       "    <tr>\n",
       "      <th>340</th>\n",
       "      <td>75</td>\n",
       "      <td>10</td>\n",
       "      <td>832215909146226688</td>\n",
       "      <td>RT @dog_rates: This is Logan, the Chow who liv...</td>\n",
       "      <td>9.75</td>\n",
       "      <td>10</td>\n",
       "    </tr>\n",
       "    <tr>\n",
       "      <th>695</th>\n",
       "      <td>75</td>\n",
       "      <td>10</td>\n",
       "      <td>786709082849828864</td>\n",
       "      <td>This is Logan, the Chow who lived. He solemnly...</td>\n",
       "      <td>9.75</td>\n",
       "      <td>10</td>\n",
       "    </tr>\n",
       "    <tr>\n",
       "      <th>763</th>\n",
       "      <td>27</td>\n",
       "      <td>10</td>\n",
       "      <td>778027034220126208</td>\n",
       "      <td>This is Sophie. She's a Jubilant Bush Pupper. ...</td>\n",
       "      <td>11.27</td>\n",
       "      <td>10</td>\n",
       "    </tr>\n",
       "    <tr>\n",
       "      <th>1689</th>\n",
       "      <td>5</td>\n",
       "      <td>10</td>\n",
       "      <td>681340665377193984</td>\n",
       "      <td>I've been told there's a slight possibility he...</td>\n",
       "      <td>9.5</td>\n",
       "      <td>10</td>\n",
       "    </tr>\n",
       "    <tr>\n",
       "      <th>1712</th>\n",
       "      <td>26</td>\n",
       "      <td>10</td>\n",
       "      <td>680494726643068929</td>\n",
       "      <td>Here we have uncovered an entire battalion of ...</td>\n",
       "      <td>11.26</td>\n",
       "      <td>10</td>\n",
       "    </tr>\n",
       "  </tbody>\n",
       "</table>\n",
       "</div>"
      ],
      "text/plain": [
       "      rating_numerator  rating_denominator            tweet_id  \\\n",
       "45                   5                  10  883482846933004288   \n",
       "340                 75                  10  832215909146226688   \n",
       "695                 75                  10  786709082849828864   \n",
       "763                 27                  10  778027034220126208   \n",
       "1689                 5                  10  681340665377193984   \n",
       "1712                26                  10  680494726643068929   \n",
       "\n",
       "                                                   text sanity_numerator  \\\n",
       "45    This is Bella. She hopes her smile made you sm...             13.5   \n",
       "340   RT @dog_rates: This is Logan, the Chow who liv...             9.75   \n",
       "695   This is Logan, the Chow who lived. He solemnly...             9.75   \n",
       "763   This is Sophie. She's a Jubilant Bush Pupper. ...            11.27   \n",
       "1689  I've been told there's a slight possibility he...              9.5   \n",
       "1712  Here we have uncovered an entire battalion of ...            11.26   \n",
       "\n",
       "     sanity_denominator  \n",
       "45                   10  \n",
       "340                  10  \n",
       "695                  10  \n",
       "763                  10  \n",
       "1689                 10  \n",
       "1712                 10  "
      ]
     },
     "execution_count": 27,
     "metadata": {},
     "output_type": "execute_result"
    }
   ],
   "source": [
    "# Let's sanity check the accuracy a little bit.\n",
    "def extract_ratings():\n",
    "    return (\n",
    "        df_tweets_tidy\n",
    "        .text.str.extract('((?:[\\d]+\\.)?[\\d]+)/((?:[\\d]+\\.)?[\\d]+)')\n",
    "        .rename(columns={0: 'sanity_numerator', 1: 'sanity_denominator'})\n",
    "    )\n",
    "\n",
    "\n",
    "df_ratings_check = extract_ratings()\n",
    "df_ratings_check = pd.concat([df_tweets_tidy[['rating_numerator', 'rating_denominator', 'tweet_id', 'text']], df_ratings_check], axis=1)\n",
    "df_ratings_mismatches = df_ratings_check[(df_ratings_check.rating_numerator.astype(float) != df_ratings_check.sanity_numerator.replace('', 0).astype(float)) | (df_ratings_check.rating_denominator.astype(float) != df_ratings_check.sanity_denominator.replace('', 0).astype(float))]\n",
    "df_ratings_mismatches"
   ]
  },
  {
   "cell_type": "markdown",
   "metadata": {},
   "source": [
    "> Apparently, we've got 6 mismatches, only when the numerator is non-integer. Let's examine the full text to be sure."
   ]
  },
  {
   "cell_type": "code",
   "execution_count": 28,
   "metadata": {
    "scrolled": true
   },
   "outputs": [
    {
     "data": {
      "text/plain": [
       "array(['This is Bella. She hopes her smile made you smile. If not, she is also offering you her favorite monkey. 13.5/10 https://t.co/qjrljjt948',\n",
       "       \"RT @dog_rates: This is Logan, the Chow who lived. He solemnly swears he's up to lots of good. H*ckin magical af 9.75/10 https://t.co/yBO5wu…\",\n",
       "       \"This is Logan, the Chow who lived. He solemnly swears he's up to lots of good. H*ckin magical af 9.75/10 https://t.co/yBO5wuqaPS\",\n",
       "       \"This is Sophie. She's a Jubilant Bush Pupper. Super h*ckin rare. Appears at random just to smile at the locals. 11.27/10 would smile back https://t.co/QFaUiIHxHq\",\n",
       "       \"I've been told there's a slight possibility he's checking his mirror. We'll bump to 9.5/10. Still a menace\",\n",
       "       'Here we have uncovered an entire battalion of holiday puppers. Average of 11.26/10 https://t.co/eNm2S6p9BD'],\n",
       "      dtype=object)"
      ]
     },
     "execution_count": 28,
     "metadata": {},
     "output_type": "execute_result"
    }
   ],
   "source": [
    "df_ratings_mismatches.text.unique()"
   ]
  },
  {
   "cell_type": "markdown",
   "metadata": {},
   "source": [
    "> It is confirmed that the ratings for these entries are incorrect and that the alternative extraction method is correct."
   ]
  },
  {
   "cell_type": "code",
   "execution_count": 29,
   "metadata": {},
   "outputs": [
    {
     "data": {
      "text/plain": [
       "313            inf\n",
       "979     177.600000\n",
       "189      66.600000\n",
       "2074     42.000000\n",
       "188      42.000000\n",
       "290      18.200000\n",
       "340       7.500000\n",
       "695       7.500000\n",
       "516       3.428571\n",
       "763       2.700000\n",
       "1712      2.600000\n",
       "55        1.700000\n",
       "285       1.500000\n",
       "291       1.500000\n",
       "64        1.400000\n",
       "Name: rating, dtype: float64"
      ]
     },
     "execution_count": 29,
     "metadata": {},
     "output_type": "execute_result"
    }
   ],
   "source": [
    "df_tweets_tidy.rating.sort_values(ascending=False)[:15]"
   ]
  },
  {
   "cell_type": "markdown",
   "metadata": {},
   "source": [
    "> We don't need any rows lacking an image."
   ]
  },
  {
   "cell_type": "markdown",
   "metadata": {},
   "source": [
    "> The `p1_dog`, `p2_dog`, and `p3_dog` columns have an object data type instead of boolean."
   ]
  },
  {
   "cell_type": "markdown",
   "metadata": {},
   "source": [
    "## Summary\n",
    "\n",
    "* Any rows with non-null values in the following columns are unnecessary (and the columns are then also unnecessary): `in_reply_to_status_id`, `in_reply_to_user_id`, `retweeted_status_id`, `retweeted_status_user_id`, and `retweeted_status_timestamp`.\n",
    "* The date type of `timestamp` is not a date format.\n",
    "* There are only 4 possible values for `source`. A categorical data type might be a good idea here.\n",
    "* The column name for the dog's name is `name`, which is not very explicit in meaning.\n",
    "* The `name` column contains a lot of nulls.\n",
    "* `None` is being used for entries of `name` instead of null.\n",
    "* In some cases the dog name was missed in extraction (\"Forrest\"), and in some cases there is actually no name given in the tweet. It would probably take a bit of effort to extract more names, and we still can't get all of them.\n",
    "* The dog type column values contain the string `None` for null.\n",
    "* The dog type column values contain `doggo` etc for the non-null values (redundant). These columns could be simplified to have a boolean data type.\n",
    "* We've got 6 incorrect ratings when the numerator is non-integer.\n",
    "* We don't need any rows lacking an image.\n",
    "* The `p1_dog`, `p2_dog`, and `p3_dog` columns have an object data type instead of boolean."
   ]
  },
  {
   "cell_type": "markdown",
   "metadata": {},
   "source": [
    "## Clean\n",
    "\n",
    "### Define\n",
    "* Remove all rows with non-null values for the following columns: `in_reply_to_status_id` or `retweeted_status_id`.\n",
    "* Remove the following columns: `in_reply_to_status_id`, `in_reply_to_user_id`, `retweeted_status_id`, `retweeted_status_user_id`, and `retweeted_status_timestamp`.\n",
    "* Change the data type of `timestamp` to date.\n",
    "* Change the data type of `source` to categorical.\n",
    "* Remove the `name` column.\n",
    "* Replace any entries of `None` in the data frame with np.NaN.\n",
    "* Change the data types of the following columns to boolean: `doggo`, `floofer`, `pupper`, `puppo`, `p1_dog`, `p2_dog`, and `p3_dog`.\n",
    "* Correct the incorrect non-integer numerator ratings.\n",
    "* Remove all rows that have a null value for `jpg_url`.\n",
    "\n",
    "### Code and Test"
   ]
  },
  {
   "cell_type": "markdown",
   "metadata": {},
   "source": [
    "* Remove all rows with non-null values for the following columns: `in_reply_to_status_id` or `retweeted_status_id`."
   ]
  },
  {
   "cell_type": "code",
   "execution_count": 30,
   "metadata": {},
   "outputs": [
    {
     "data": {
      "text/plain": [
       "(2356, 2097, 0)"
      ]
     },
     "execution_count": 30,
     "metadata": {},
     "output_type": "execute_result"
    }
   ],
   "source": [
    "df_tweets_clean = df_tweets_tidy.copy()\n",
    "df_tweets_clean = df_tweets_clean[\n",
    "    df_tweets_clean.in_reply_to_status_id.isnull() &\n",
    "    df_tweets_clean.retweeted_status_id.isnull()\n",
    "]\n",
    "len(df_tweets_tidy), len(df_tweets_clean), len(df_tweets_clean[\n",
    "    df_tweets_clean.in_reply_to_status_id.notnull() |\n",
    "    df_tweets_clean.in_reply_to_user_id.notnull() |\n",
    "    df_tweets_clean.retweeted_status_id.notnull() |\n",
    "    df_tweets_clean.retweeted_status_user_id.notnull() |\n",
    "    df_tweets_clean.retweeted_status_timestamp.notnull()\n",
    "])"
   ]
  },
  {
   "cell_type": "markdown",
   "metadata": {},
   "source": [
    "* Remove the following columns: `in_reply_to_status_id`, `in_reply_to_user_id`, `retweeted_status_id`, `retweeted_status_user_id`, and `retweeted_status_timestamp`."
   ]
  },
  {
   "cell_type": "code",
   "execution_count": 31,
   "metadata": {},
   "outputs": [
    {
     "name": "stdout",
     "output_type": "stream",
     "text": [
      "<class 'pandas.core.frame.DataFrame'>\n",
      "Int64Index: 2097 entries, 0 to 2355\n",
      "Data columns (total 26 columns):\n",
      "tweet_id              2097 non-null int64\n",
      "timestamp             2097 non-null object\n",
      "source                2097 non-null object\n",
      "text                  2097 non-null object\n",
      "expanded_urls         2094 non-null object\n",
      "rating_numerator      2097 non-null int64\n",
      "rating_denominator    2097 non-null int64\n",
      "name                  2097 non-null object\n",
      "doggo                 2097 non-null object\n",
      "floofer               2097 non-null object\n",
      "pupper                2097 non-null object\n",
      "puppo                 2097 non-null object\n",
      "rating                2097 non-null float64\n",
      "jpg_url               1971 non-null object\n",
      "img_num               1971 non-null float64\n",
      "p1                    1971 non-null object\n",
      "p1_conf               1971 non-null float64\n",
      "p1_dog                1971 non-null object\n",
      "p2                    1971 non-null object\n",
      "p2_conf               1971 non-null float64\n",
      "p2_dog                1971 non-null object\n",
      "p3                    1971 non-null object\n",
      "p3_conf               1971 non-null float64\n",
      "p3_dog                1971 non-null object\n",
      "favorite_count        2096 non-null float64\n",
      "retweet_count         2096 non-null float64\n",
      "dtypes: float64(7), int64(3), object(16)\n",
      "memory usage: 442.3+ KB\n"
     ]
    }
   ],
   "source": [
    "df_tweets_clean = df_tweets_clean.drop(\n",
    "    ['in_reply_to_status_id', 'in_reply_to_user_id', 'retweeted_status_id',\n",
    "     'retweeted_status_user_id', 'retweeted_status_timestamp'],\n",
    "    axis=1\n",
    ")\n",
    "df_tweets_clean.info()"
   ]
  },
  {
   "cell_type": "markdown",
   "metadata": {},
   "source": [
    "* Change the data type of `timestamp` to date."
   ]
  },
  {
   "cell_type": "code",
   "execution_count": 32,
   "metadata": {},
   "outputs": [
    {
     "name": "stdout",
     "output_type": "stream",
     "text": [
      "<class 'pandas.core.frame.DataFrame'>\n",
      "Int64Index: 2097 entries, 0 to 2355\n",
      "Data columns (total 1 columns):\n",
      "timestamp    2097 non-null datetime64[ns]\n",
      "dtypes: datetime64[ns](1)\n",
      "memory usage: 32.8 KB\n"
     ]
    }
   ],
   "source": [
    "df_tweets_clean.timestamp = pd.to_datetime(df_tweets_clean.timestamp)\n",
    "df_tweets_clean[['timestamp']].info()"
   ]
  },
  {
   "cell_type": "markdown",
   "metadata": {},
   "source": [
    "* Change the data type of `source` to categorical."
   ]
  },
  {
   "cell_type": "code",
   "execution_count": 33,
   "metadata": {},
   "outputs": [
    {
     "name": "stdout",
     "output_type": "stream",
     "text": [
      "<class 'pandas.core.frame.DataFrame'>\n",
      "Int64Index: 2097 entries, 0 to 2355\n",
      "Data columns (total 1 columns):\n",
      "source    2097 non-null category\n",
      "dtypes: category(1)\n",
      "memory usage: 18.6 KB\n"
     ]
    }
   ],
   "source": [
    "df_tweets_clean.source = df_tweets_clean.source.astype('category')\n",
    "df_tweets_clean[['source']].info()"
   ]
  },
  {
   "cell_type": "code",
   "execution_count": 34,
   "metadata": {},
   "outputs": [
    {
     "name": "stdout",
     "output_type": "stream",
     "text": [
      "<class 'pandas.core.frame.DataFrame'>\n",
      "Int64Index: 2097 entries, 0 to 2355\n",
      "Data columns (total 25 columns):\n",
      "tweet_id              2097 non-null int64\n",
      "timestamp             2097 non-null datetime64[ns]\n",
      "source                2097 non-null category\n",
      "text                  2097 non-null object\n",
      "expanded_urls         2094 non-null object\n",
      "rating_numerator      2097 non-null int64\n",
      "rating_denominator    2097 non-null int64\n",
      "doggo                 2097 non-null object\n",
      "floofer               2097 non-null object\n",
      "pupper                2097 non-null object\n",
      "puppo                 2097 non-null object\n",
      "rating                2097 non-null float64\n",
      "jpg_url               1971 non-null object\n",
      "img_num               1971 non-null float64\n",
      "p1                    1971 non-null object\n",
      "p1_conf               1971 non-null float64\n",
      "p1_dog                1971 non-null object\n",
      "p2                    1971 non-null object\n",
      "p2_conf               1971 non-null float64\n",
      "p2_dog                1971 non-null object\n",
      "p3                    1971 non-null object\n",
      "p3_conf               1971 non-null float64\n",
      "p3_dog                1971 non-null object\n",
      "favorite_count        2096 non-null float64\n",
      "retweet_count         2096 non-null float64\n",
      "dtypes: category(1), datetime64[ns](1), float64(7), int64(3), object(13)\n",
      "memory usage: 411.8+ KB\n"
     ]
    }
   ],
   "source": [
    "df_tweets_clean = df_tweets_clean.drop('name', axis=1)\n",
    "df_tweets_clean.info()"
   ]
  },
  {
   "cell_type": "markdown",
   "metadata": {},
   "source": [
    "* Remove the `name` column."
   ]
  },
  {
   "cell_type": "markdown",
   "metadata": {},
   "source": [
    "* Replace any entries of `None` in the data frame with np.NaN."
   ]
  },
  {
   "cell_type": "code",
   "execution_count": 35,
   "metadata": {},
   "outputs": [
    {
     "name": "stdout",
     "output_type": "stream",
     "text": [
      "<class 'pandas.core.frame.DataFrame'>\n",
      "Int64Index: 2097 entries, 0 to 2355\n",
      "Data columns (total 25 columns):\n",
      "tweet_id              2097 non-null int64\n",
      "timestamp             2097 non-null datetime64[ns]\n",
      "source                2097 non-null category\n",
      "text                  2097 non-null object\n",
      "expanded_urls         2094 non-null object\n",
      "rating_numerator      2097 non-null int64\n",
      "rating_denominator    2097 non-null int64\n",
      "doggo                 83 non-null object\n",
      "floofer               10 non-null object\n",
      "pupper                230 non-null object\n",
      "puppo                 24 non-null object\n",
      "rating                2097 non-null float64\n",
      "jpg_url               1971 non-null object\n",
      "img_num               1971 non-null float64\n",
      "p1                    1971 non-null object\n",
      "p1_conf               1971 non-null float64\n",
      "p1_dog                1971 non-null object\n",
      "p2                    1971 non-null object\n",
      "p2_conf               1971 non-null float64\n",
      "p2_dog                1971 non-null object\n",
      "p3                    1971 non-null object\n",
      "p3_conf               1971 non-null float64\n",
      "p3_dog                1971 non-null object\n",
      "favorite_count        2096 non-null float64\n",
      "retweet_count         2096 non-null float64\n",
      "dtypes: category(1), datetime64[ns](1), float64(7), int64(3), object(13)\n",
      "memory usage: 411.8+ KB\n"
     ]
    }
   ],
   "source": [
    "df_tweets_clean = df_tweets_clean.replace('None', np.NaN)\n",
    "df_tweets_clean.info()"
   ]
  },
  {
   "cell_type": "markdown",
   "metadata": {},
   "source": [
    "* Change the data types of the following columns to boolean: `doggo`, `floofer`, `pupper`, `puppo`, `p1_dog`, `p2_dog`, and `p3_dog`."
   ]
  },
  {
   "cell_type": "code",
   "execution_count": 36,
   "metadata": {},
   "outputs": [
    {
     "data": {
      "text/html": [
       "<div>\n",
       "<style scoped>\n",
       "    .dataframe tbody tr th:only-of-type {\n",
       "        vertical-align: middle;\n",
       "    }\n",
       "\n",
       "    .dataframe tbody tr th {\n",
       "        vertical-align: top;\n",
       "    }\n",
       "\n",
       "    .dataframe thead th {\n",
       "        text-align: right;\n",
       "    }\n",
       "</style>\n",
       "<table border=\"1\" class=\"dataframe\">\n",
       "  <thead>\n",
       "    <tr style=\"text-align: right;\">\n",
       "      <th></th>\n",
       "      <th>doggo</th>\n",
       "      <th>floofer</th>\n",
       "      <th>pupper</th>\n",
       "      <th>puppo</th>\n",
       "      <th>p1_dog</th>\n",
       "      <th>p2_dog</th>\n",
       "      <th>p3_dog</th>\n",
       "    </tr>\n",
       "  </thead>\n",
       "  <tbody>\n",
       "    <tr>\n",
       "      <th>2319</th>\n",
       "      <td>False</td>\n",
       "      <td>False</td>\n",
       "      <td>False</td>\n",
       "      <td>False</td>\n",
       "      <td>True</td>\n",
       "      <td>True</td>\n",
       "      <td>True</td>\n",
       "    </tr>\n",
       "    <tr>\n",
       "      <th>2271</th>\n",
       "      <td>False</td>\n",
       "      <td>False</td>\n",
       "      <td>False</td>\n",
       "      <td>False</td>\n",
       "      <td>True</td>\n",
       "      <td>False</td>\n",
       "      <td>False</td>\n",
       "    </tr>\n",
       "    <tr>\n",
       "      <th>492</th>\n",
       "      <td>False</td>\n",
       "      <td>False</td>\n",
       "      <td>False</td>\n",
       "      <td>False</td>\n",
       "      <td>True</td>\n",
       "      <td>True</td>\n",
       "      <td>True</td>\n",
       "    </tr>\n",
       "    <tr>\n",
       "      <th>2097</th>\n",
       "      <td>False</td>\n",
       "      <td>False</td>\n",
       "      <td>False</td>\n",
       "      <td>False</td>\n",
       "      <td>False</td>\n",
       "      <td>False</td>\n",
       "      <td>False</td>\n",
       "    </tr>\n",
       "    <tr>\n",
       "      <th>1767</th>\n",
       "      <td>False</td>\n",
       "      <td>False</td>\n",
       "      <td>False</td>\n",
       "      <td>False</td>\n",
       "      <td>True</td>\n",
       "      <td>True</td>\n",
       "      <td>True</td>\n",
       "    </tr>\n",
       "  </tbody>\n",
       "</table>\n",
       "</div>"
      ],
      "text/plain": [
       "      doggo  floofer  pupper  puppo  p1_dog  p2_dog  p3_dog\n",
       "2319  False    False   False  False    True    True    True\n",
       "2271  False    False   False  False    True   False   False\n",
       "492   False    False   False  False    True    True    True\n",
       "2097  False    False   False  False   False   False   False\n",
       "1767  False    False   False  False    True    True    True"
      ]
     },
     "execution_count": 36,
     "metadata": {},
     "output_type": "execute_result"
    }
   ],
   "source": [
    "columns_to_make_bool = [\n",
    "    'doggo', 'floofer', 'pupper', 'puppo', 'p1_dog', 'p2_dog', 'p3_dog'\n",
    "]\n",
    "df_tweets_clean[columns_to_make_bool] = (\n",
    "    df_tweets_clean[columns_to_make_bool]\n",
    "    .replace(np.NaN, 0).astype(bool)\n",
    ")\n",
    "df_tweets_clean[columns_to_make_bool].sample(5)"
   ]
  },
  {
   "cell_type": "code",
   "execution_count": 37,
   "metadata": {},
   "outputs": [
    {
     "name": "stdout",
     "output_type": "stream",
     "text": [
      "<class 'pandas.core.frame.DataFrame'>\n",
      "Int64Index: 2097 entries, 0 to 2355\n",
      "Data columns (total 25 columns):\n",
      "tweet_id              2097 non-null int64\n",
      "timestamp             2097 non-null datetime64[ns]\n",
      "source                2097 non-null category\n",
      "text                  2097 non-null object\n",
      "expanded_urls         2094 non-null object\n",
      "rating_numerator      2097 non-null int64\n",
      "rating_denominator    2097 non-null int64\n",
      "doggo                 2097 non-null bool\n",
      "floofer               2097 non-null bool\n",
      "pupper                2097 non-null bool\n",
      "puppo                 2097 non-null bool\n",
      "rating                2097 non-null float64\n",
      "jpg_url               1971 non-null object\n",
      "img_num               1971 non-null float64\n",
      "p1                    1971 non-null object\n",
      "p1_conf               1971 non-null float64\n",
      "p1_dog                2097 non-null bool\n",
      "p2                    1971 non-null object\n",
      "p2_conf               1971 non-null float64\n",
      "p2_dog                2097 non-null bool\n",
      "p3                    1971 non-null object\n",
      "p3_conf               1971 non-null float64\n",
      "p3_dog                2097 non-null bool\n",
      "favorite_count        2096 non-null float64\n",
      "retweet_count         2096 non-null float64\n",
      "dtypes: bool(7), category(1), datetime64[ns](1), float64(7), int64(3), object(6)\n",
      "memory usage: 311.5+ KB\n"
     ]
    }
   ],
   "source": [
    "df_tweets_clean.info()"
   ]
  },
  {
   "cell_type": "markdown",
   "metadata": {},
   "source": [
    "* Remove all rows that have a null value for `jpg_url`."
   ]
  },
  {
   "cell_type": "code",
   "execution_count": 38,
   "metadata": {},
   "outputs": [
    {
     "name": "stdout",
     "output_type": "stream",
     "text": [
      "<class 'pandas.core.frame.DataFrame'>\n",
      "Int64Index: 1971 entries, 0 to 2355\n",
      "Data columns (total 25 columns):\n",
      "tweet_id              1971 non-null int64\n",
      "timestamp             1971 non-null datetime64[ns]\n",
      "source                1971 non-null category\n",
      "text                  1971 non-null object\n",
      "expanded_urls         1971 non-null object\n",
      "rating_numerator      1971 non-null int64\n",
      "rating_denominator    1971 non-null int64\n",
      "doggo                 1971 non-null bool\n",
      "floofer               1971 non-null bool\n",
      "pupper                1971 non-null bool\n",
      "puppo                 1971 non-null bool\n",
      "rating                1971 non-null float64\n",
      "jpg_url               1971 non-null object\n",
      "img_num               1971 non-null float64\n",
      "p1                    1971 non-null object\n",
      "p1_conf               1971 non-null float64\n",
      "p1_dog                1971 non-null bool\n",
      "p2                    1971 non-null object\n",
      "p2_conf               1971 non-null float64\n",
      "p2_dog                1971 non-null bool\n",
      "p3                    1971 non-null object\n",
      "p3_conf               1971 non-null float64\n",
      "p3_dog                1971 non-null bool\n",
      "favorite_count        1970 non-null float64\n",
      "retweet_count         1970 non-null float64\n",
      "dtypes: bool(7), category(1), datetime64[ns](1), float64(7), int64(3), object(6)\n",
      "memory usage: 292.8+ KB\n"
     ]
    }
   ],
   "source": [
    "df_tweets_clean = df_tweets_clean[df_tweets_clean.jpg_url.notnull()]\n",
    "df_tweets_clean.info()"
   ]
  },
  {
   "cell_type": "markdown",
   "metadata": {},
   "source": [
    "* [New] Let's remove that one row that has a null value for `favorite_count` and `retweet_count`, for greater data uniformity."
   ]
  },
  {
   "cell_type": "code",
   "execution_count": 39,
   "metadata": {},
   "outputs": [
    {
     "name": "stdout",
     "output_type": "stream",
     "text": [
      "<class 'pandas.core.frame.DataFrame'>\n",
      "Int64Index: 1970 entries, 0 to 2355\n",
      "Data columns (total 25 columns):\n",
      "tweet_id              1970 non-null int64\n",
      "timestamp             1970 non-null datetime64[ns]\n",
      "source                1970 non-null category\n",
      "text                  1970 non-null object\n",
      "expanded_urls         1970 non-null object\n",
      "rating_numerator      1970 non-null int64\n",
      "rating_denominator    1970 non-null int64\n",
      "doggo                 1970 non-null bool\n",
      "floofer               1970 non-null bool\n",
      "pupper                1970 non-null bool\n",
      "puppo                 1970 non-null bool\n",
      "rating                1970 non-null float64\n",
      "jpg_url               1970 non-null object\n",
      "img_num               1970 non-null float64\n",
      "p1                    1970 non-null object\n",
      "p1_conf               1970 non-null float64\n",
      "p1_dog                1970 non-null bool\n",
      "p2                    1970 non-null object\n",
      "p2_conf               1970 non-null float64\n",
      "p2_dog                1970 non-null bool\n",
      "p3                    1970 non-null object\n",
      "p3_conf               1970 non-null float64\n",
      "p3_dog                1970 non-null bool\n",
      "favorite_count        1970 non-null float64\n",
      "retweet_count         1970 non-null float64\n",
      "dtypes: bool(7), category(1), datetime64[ns](1), float64(7), int64(3), object(6)\n",
      "memory usage: 292.6+ KB\n"
     ]
    }
   ],
   "source": [
    "df_tweets_clean = df_tweets_clean[df_tweets_clean.favorite_count.notnull()].copy()\n",
    "df_tweets_clean.info()"
   ]
  },
  {
   "cell_type": "markdown",
   "metadata": {},
   "source": [
    "* Correct the incorrect non-integer numerator ratings."
   ]
  },
  {
   "cell_type": "code",
   "execution_count": 40,
   "metadata": {},
   "outputs": [
    {
     "data": {
      "text/plain": [
       "array([0.00000000e+00, 1.00000000e-01, 2.00000000e-01, 3.00000000e-01,\n",
       "       4.00000000e-01, 5.00000000e-01, 6.00000000e-01, 6.36363636e-01,\n",
       "       7.00000000e-01, 8.00000000e-01, 8.18181818e-01, 9.00000000e-01,\n",
       "       9.75000000e-01, 1.00000000e+00, 1.10000000e+00, 1.12600000e+00,\n",
       "       1.12700000e+00, 1.20000000e+00, 1.30000000e+00, 1.35000000e+00,\n",
       "       1.40000000e+00, 3.42857143e+00, 4.20000000e+01, 1.77600000e+02])"
      ]
     },
     "execution_count": 40,
     "metadata": {},
     "output_type": "execute_result"
    }
   ],
   "source": [
    "df_tweets_clean[['rating_numerator', 'rating_denominator']] = extract_ratings()\n",
    "df_tweets_clean.rating_numerator = df_tweets_clean.rating_numerator.astype(float)\n",
    "df_tweets_clean.rating_denominator = df_tweets_clean.rating_denominator.astype(int)\n",
    "df_tweets_clean[['rating_numerator', 'rating_denominator']].groupby(['rating_denominator', 'rating_numerator']).count().T\n",
    "df_tweets_clean['rating'] = (\n",
    "    df_tweets_clean['rating_numerator'] / df_tweets_clean['rating_denominator']\n",
    ")\n",
    "np.array(sorted(df_tweets_clean.rating.unique()))"
   ]
  },
  {
   "cell_type": "markdown",
   "metadata": {},
   "source": [
    "> There are some really high ratings here. Let's examine them."
   ]
  },
  {
   "cell_type": "code",
   "execution_count": 41,
   "metadata": {},
   "outputs": [
    {
     "data": {
      "text/plain": [
       "[177.6, 42.0, 3.4285714285714284]"
      ]
     },
     "execution_count": 41,
     "metadata": {},
     "output_type": "execute_result"
    }
   ],
   "source": [
    "high_ratings = df_tweets_clean.rating.sort_values(ascending=False)[:3].tolist()\n",
    "high_ratings"
   ]
  },
  {
   "cell_type": "code",
   "execution_count": 42,
   "metadata": {},
   "outputs": [
    {
     "data": {
      "text/plain": [
       "array(['Meet Sam. She smiles 24/7 &amp; secretly aspires to be a reindeer. \\nKeep Sam smiling by clicking and sharing this link:\\nhttps://t.co/98tB8y7y7t https://t.co/LouL5vdvxx',\n",
       "       \"This is Atticus. He's quite simply America af. 1776/10 https://t.co/GRXwMxLBkh\",\n",
       "       'After so many requests... here you go.\\n\\nGood dogg. 420/10 https://t.co/yfAAo1gdeY'],\n",
       "      dtype=object)"
      ]
     },
     "execution_count": 42,
     "metadata": {},
     "output_type": "execute_result"
    }
   ],
   "source": [
    "df_tweets_clean[df_tweets_clean.rating.isin(high_ratings)].text.unique()"
   ]
  },
  {
   "cell_type": "markdown",
   "metadata": {},
   "source": [
    "> The 24/7 may or may not be intended as a rating. The 1776/10 rating is a play on Independence Day. The 420/10 rating is for Snoop Dogg.\n",
    "* [New] Let's remove all three of these especially unusual ratings."
   ]
  },
  {
   "cell_type": "code",
   "execution_count": 43,
   "metadata": {},
   "outputs": [],
   "source": [
    "df_tweets_clean = df_tweets_clean[\n",
    "    ~df_tweets_clean.rating.isin(high_ratings)\n",
    "].copy()"
   ]
  },
  {
   "cell_type": "code",
   "execution_count": 44,
   "metadata": {},
   "outputs": [
    {
     "name": "stdout",
     "output_type": "stream",
     "text": [
      "<class 'pandas.core.frame.DataFrame'>\n",
      "Int64Index: 1967 entries, 0 to 2355\n",
      "Data columns (total 25 columns):\n",
      "tweet_id              1967 non-null int64\n",
      "timestamp             1967 non-null datetime64[ns]\n",
      "source                1967 non-null category\n",
      "text                  1967 non-null object\n",
      "expanded_urls         1967 non-null object\n",
      "rating_numerator      1967 non-null float64\n",
      "rating_denominator    1967 non-null int64\n",
      "doggo                 1967 non-null bool\n",
      "floofer               1967 non-null bool\n",
      "pupper                1967 non-null bool\n",
      "puppo                 1967 non-null bool\n",
      "rating                1967 non-null float64\n",
      "jpg_url               1967 non-null object\n",
      "img_num               1967 non-null float64\n",
      "p1                    1967 non-null object\n",
      "p1_conf               1967 non-null float64\n",
      "p1_dog                1967 non-null bool\n",
      "p2                    1967 non-null object\n",
      "p2_conf               1967 non-null float64\n",
      "p2_dog                1967 non-null bool\n",
      "p3                    1967 non-null object\n",
      "p3_conf               1967 non-null float64\n",
      "p3_dog                1967 non-null bool\n",
      "favorite_count        1967 non-null float64\n",
      "retweet_count         1967 non-null float64\n",
      "dtypes: bool(7), category(1), datetime64[ns](1), float64(8), int64(2), object(6)\n",
      "memory usage: 292.2+ KB\n"
     ]
    }
   ],
   "source": [
    "df_tweets_clean.info()"
   ]
  },
  {
   "cell_type": "markdown",
   "metadata": {},
   "source": [
    "# Store"
   ]
  },
  {
   "cell_type": "code",
   "execution_count": 45,
   "metadata": {},
   "outputs": [],
   "source": [
    "df_tweets_clean.to_csv('twitter_archive_master.csv', index=False)"
   ]
  },
  {
   "cell_type": "code",
   "execution_count": 46,
   "metadata": {},
   "outputs": [
    {
     "name": "stdout",
     "output_type": "stream",
     "text": [
      "<class 'pandas.core.frame.DataFrame'>\n",
      "RangeIndex: 1967 entries, 0 to 1966\n",
      "Data columns (total 25 columns):\n",
      "tweet_id              1967 non-null int64\n",
      "timestamp             1967 non-null datetime64[ns]\n",
      "source                1967 non-null category\n",
      "text                  1967 non-null object\n",
      "expanded_urls         1967 non-null object\n",
      "rating_numerator      1967 non-null float64\n",
      "rating_denominator    1967 non-null int64\n",
      "doggo                 1967 non-null bool\n",
      "floofer               1967 non-null bool\n",
      "pupper                1967 non-null bool\n",
      "puppo                 1967 non-null bool\n",
      "rating                1967 non-null float64\n",
      "jpg_url               1967 non-null object\n",
      "img_num               1967 non-null float64\n",
      "p1                    1967 non-null object\n",
      "p1_conf               1967 non-null float64\n",
      "p1_dog                1967 non-null bool\n",
      "p2                    1967 non-null object\n",
      "p2_conf               1967 non-null float64\n",
      "p2_dog                1967 non-null bool\n",
      "p3                    1967 non-null object\n",
      "p3_conf               1967 non-null float64\n",
      "p3_dog                1967 non-null bool\n",
      "favorite_count        1967 non-null float64\n",
      "retweet_count         1967 non-null float64\n",
      "dtypes: bool(7), category(1), datetime64[ns](1), float64(8), int64(2), object(6)\n",
      "memory usage: 276.8+ KB\n"
     ]
    }
   ],
   "source": [
    "df_tweets_clean = pd.read_csv(\n",
    "    'twitter_archive_master.csv',\n",
    "    parse_dates=[1],\n",
    "    dtype={'source': 'category'}\n",
    ")\n",
    "df_tweets_clean.info()"
   ]
  },
  {
   "cell_type": "markdown",
   "metadata": {},
   "source": [
    "# Analysis"
   ]
  },
  {
   "cell_type": "markdown",
   "metadata": {},
   "source": [
    "> We will explore three questions with our cleaned data set:\n",
    "* Do the ratings change over time, and if so, in what way?\n",
    "* How strong is the correlation between the number of favorites and the number of retweets, across tweets?\n",
    "* Do images having an image prediction of a dog breed have a higher rating than images that do not?\n",
    "\n",
    "## Question 1: Do the ratings change over time?"
   ]
  },
  {
   "cell_type": "markdown",
   "metadata": {},
   "source": [
    "> Let's create a scatter plot to get a quick visual sense about whether there is a relationship. We can't use the matplotlib scatter plot function for this because our x variable is non-numeric (timestamp). One solution would be to convert the timestamp to a numeric value and then rename the x tick labels back to the corresponding dates. An easier solution is to just use the default line plot with style='o'. (Credit: https://stackoverflow.com/a/29737663/576101.)"
   ]
  },
  {
   "cell_type": "code",
   "execution_count": 47,
   "metadata": {},
   "outputs": [
    {
     "data": {
      "image/png": "[encoded data removed]",
      "text/plain": [
       "<Figure size 720x432 with 1 Axes>"
      ]
     },
     "metadata": {
      "needs_background": "light"
     },
     "output_type": "display_data"
    }
   ],
   "source": [
    "df_tweets_analysis = df_tweets_clean.copy()\n",
    "\n",
    "plt.rcParams.update({'font.size': 14})\n",
    "\n",
    "df_tweets_analysis.plot(\n",
    "    x='timestamp', y='rating', style='o', alpha=0.2,\n",
    "    figsize=(10,6), legend=False, title='Dog Ratings over Time'\n",
    ");\n",
    "plt.xlabel('Date of Tweet')\n",
    "plt.ylabel('Rating');\n",
    "plt.savefig('analysis_q1.png');"
   ]
  },
  {
   "cell_type": "markdown",
   "metadata": {},
   "source": [
    "> Indeed, there appears to be a trend towards higher ratings over time, which is more conspicuous given the dramatic decrease in frequency of sub-10/10 ratings. Let's run a linear regression to quantify the overall trend. Now we'll have to give in and convert the timestamp to a numeric value."
   ]
  },
  {
   "cell_type": "code",
   "execution_count": 48,
   "metadata": {},
   "outputs": [
    {
     "data": {
      "text/html": [
       "<table class=\"simpletable\">\n",
       "<caption>OLS Regression Results</caption>\n",
       "<tr>\n",
       "  <th>Dep. Variable:</th>         <td>rating</td>      <th>  R-squared:         </th> <td>   0.286</td> \n",
       "</tr>\n",
       "<tr>\n",
       "  <th>Model:</th>                   <td>OLS</td>       <th>  Adj. R-squared:    </th> <td>   0.285</td> \n",
       "</tr>\n",
       "<tr>\n",
       "  <th>Method:</th>             <td>Least Squares</td>  <th>  F-statistic:       </th> <td>   786.0</td> \n",
       "</tr>\n",
       "<tr>\n",
       "  <th>Date:</th>             <td>Mon, 10 Dec 2018</td> <th>  Prob (F-statistic):</th> <td>9.17e-146</td>\n",
       "</tr>\n",
       "<tr>\n",
       "  <th>Time:</th>                 <td>15:01:55</td>     <th>  Log-Likelihood:    </th> <td>  538.09</td> \n",
       "</tr>\n",
       "<tr>\n",
       "  <th>No. Observations:</th>      <td>  1967</td>      <th>  AIC:               </th> <td>  -1072.</td> \n",
       "</tr>\n",
       "<tr>\n",
       "  <th>Df Residuals:</th>          <td>  1965</td>      <th>  BIC:               </th> <td>  -1061.</td> \n",
       "</tr>\n",
       "<tr>\n",
       "  <th>Df Model:</th>              <td>     1</td>      <th>                     </th>     <td> </td>    \n",
       "</tr>\n",
       "<tr>\n",
       "  <th>Covariance Type:</th>      <td>nonrobust</td>    <th>                     </th>     <td> </td>    \n",
       "</tr>\n",
       "</table>\n",
       "<table class=\"simpletable\">\n",
       "<tr>\n",
       "          <td></td>            <th>coef</th>     <th>std err</th>      <th>t</th>      <th>P>|t|</th>  <th>[0.025</th>    <th>0.975]</th>  \n",
       "</tr>\n",
       "<tr>\n",
       "  <th>days_since_start</th> <td>    0.0006</td> <td> 2.23e-05</td> <td>   28.035</td> <td> 0.000</td> <td>    0.001</td> <td>    0.001</td>\n",
       "</tr>\n",
       "<tr>\n",
       "  <th>intercept</th>        <td>    0.9328</td> <td>    0.006</td> <td>  155.991</td> <td> 0.000</td> <td>    0.921</td> <td>    0.945</td>\n",
       "</tr>\n",
       "</table>\n",
       "<table class=\"simpletable\">\n",
       "<tr>\n",
       "  <th>Omnibus:</th>       <td>665.383</td> <th>  Durbin-Watson:     </th> <td>   2.013</td>\n",
       "</tr>\n",
       "<tr>\n",
       "  <th>Prob(Omnibus):</th> <td> 0.000</td>  <th>  Jarque-Bera (JB):  </th> <td>2578.456</td>\n",
       "</tr>\n",
       "<tr>\n",
       "  <th>Skew:</th>          <td>-1.622</td>  <th>  Prob(JB):          </th> <td>    0.00</td>\n",
       "</tr>\n",
       "<tr>\n",
       "  <th>Kurtosis:</th>      <td> 7.575</td>  <th>  Cond. No.          </th> <td>    387.</td>\n",
       "</tr>\n",
       "</table><br/><br/>Warnings:<br/>[1] Standard Errors assume that the covariance matrix of the errors is correctly specified."
      ],
      "text/plain": [
       "<class 'statsmodels.iolib.summary.Summary'>\n",
       "\"\"\"\n",
       "                            OLS Regression Results                            \n",
       "==============================================================================\n",
       "Dep. Variable:                 rating   R-squared:                       0.286\n",
       "Model:                            OLS   Adj. R-squared:                  0.285\n",
       "Method:                 Least Squares   F-statistic:                     786.0\n",
       "Date:                Mon, 10 Dec 2018   Prob (F-statistic):          9.17e-146\n",
       "Time:                        15:01:55   Log-Likelihood:                 538.09\n",
       "No. Observations:                1967   AIC:                            -1072.\n",
       "Df Residuals:                    1965   BIC:                            -1061.\n",
       "Df Model:                           1                                         \n",
       "Covariance Type:            nonrobust                                         \n",
       "====================================================================================\n",
       "                       coef    std err          t      P>|t|      [0.025      0.975]\n",
       "------------------------------------------------------------------------------------\n",
       "days_since_start     0.0006   2.23e-05     28.035      0.000       0.001       0.001\n",
       "intercept            0.9328      0.006    155.991      0.000       0.921       0.945\n",
       "==============================================================================\n",
       "Omnibus:                      665.383   Durbin-Watson:                   2.013\n",
       "Prob(Omnibus):                  0.000   Jarque-Bera (JB):             2578.456\n",
       "Skew:                          -1.622   Prob(JB):                         0.00\n",
       "Kurtosis:                       7.575   Cond. No.                         387.\n",
       "==============================================================================\n",
       "\n",
       "Warnings:\n",
       "[1] Standard Errors assume that the covariance matrix of the errors is correctly specified.\n",
       "\"\"\""
      ]
     },
     "execution_count": 48,
     "metadata": {},
     "output_type": "execute_result"
    }
   ],
   "source": [
    "# Credit: https://stackoverflow.com/a/45886455/576101\n",
    "def timestamp_to_seconds(timestamp):\n",
    "    return time.mktime(timestamp.timetuple())\n",
    "\n",
    "earliest_timestamp = df_tweets_analysis['timestamp'].min()\n",
    "base_seconds = timestamp_to_seconds(earliest_timestamp)\n",
    "\n",
    "def seconds_after_earliest_tweet(timestamp):\n",
    "    return timestamp_to_seconds(timestamp) - base_seconds\n",
    "\n",
    "def seconds_to_days(seconds):\n",
    "    return seconds / 60 / 60 / 24\n",
    "\n",
    "df_tweets_analysis['days_since_start'] = (\n",
    "    df_tweets_analysis\n",
    "    .timestamp\n",
    "    .apply(seconds_after_earliest_tweet)\n",
    "    .apply(seconds_to_days)\n",
    ")\n",
    "\n",
    "df_tweets_analysis['intercept'] = 1\n",
    "sm.OLS(\n",
    "    df_tweets_analysis['rating'],\n",
    "    df_tweets_analysis[['days_since_start', 'intercept']]\n",
    ").fit().summary()"
   ]
  },
  {
   "cell_type": "markdown",
   "metadata": {},
   "source": [
    "> We have a p-value smaller than 0.001 for our positive linear relationship between `days_since_start` and `rating`. The (adjusted) R-squared value is also substantial at 0.285, meaning that 28.5% of the variance of the ratings is accounted for by the dates on which the ratings was given."
   ]
  },
  {
   "cell_type": "markdown",
   "metadata": {},
   "source": [
    "## Question 2:  Is there a correlation between favorites and retweets?\n",
    "\n",
    "> Once again, let's begin with a scatter plot."
   ]
  },
  {
   "cell_type": "code",
   "execution_count": 49,
   "metadata": {},
   "outputs": [
    {
     "data": {
      "image/png": "[encoded data removed]",
      "text/plain": [
       "<Figure size 720x432 with 1 Axes>"
      ]
     },
     "metadata": {
      "needs_background": "light"
     },
     "output_type": "display_data"
    }
   ],
   "source": [
    "x = df_tweets_analysis.favorite_count\n",
    "y = df_tweets_analysis.retweet_count\n",
    "plt.figure(figsize=(10, 6))\n",
    "plt.scatter(x=x, y=y, alpha=0.1);\n",
    "plt.title('Retweet Count Against Favorite Count for Dog Rating Tweets');\n",
    "plt.xlabel('Favorite Count');\n",
    "plt.ylabel('Retweet Count');\n",
    "plt.savefig('analysis_q2.png');"
   ]
  },
  {
   "cell_type": "markdown",
   "metadata": {},
   "source": [
    "> As expected, there does appear to be a strong positive correlation between the favorite and retweet counts. Let's zoom in on that dense region in the bottom left corner of the graph."
   ]
  },
  {
   "cell_type": "code",
   "execution_count": 50,
   "metadata": {},
   "outputs": [
    {
     "data": {
      "image/png": "[encoded data removed]",
      "text/plain": [
       "<Figure size 720x432 with 1 Axes>"
      ]
     },
     "metadata": {
      "needs_background": "light"
     },
     "output_type": "display_data"
    }
   ],
   "source": [
    "plt.figure(figsize=(10, 6))\n",
    "plt.scatter(x=x, y=y, alpha=0.1);\n",
    "plt.title('Retweet Count Against Favorite Count for Dog Rating Tweets');\n",
    "plt.xlabel('Favorite Count');\n",
    "plt.ylabel('Retweet Count');\n",
    "plt.xlim(0, 30000);\n",
    "plt.ylim(0, 18000);"
   ]
  },
  {
   "cell_type": "markdown",
   "metadata": {},
   "source": [
    "> The relationship is strongly linear here. Let's quantify the linear correlation (across the full range of our data)."
   ]
  },
  {
   "cell_type": "code",
   "execution_count": 51,
   "metadata": {},
   "outputs": [
    {
     "data": {
      "text/html": [
       "<table class=\"simpletable\">\n",
       "<caption>OLS Regression Results</caption>\n",
       "<tr>\n",
       "  <th>Dep. Variable:</th>      <td>retweet_count</td>  <th>  R-squared:         </th> <td>   0.865</td> \n",
       "</tr>\n",
       "<tr>\n",
       "  <th>Model:</th>                   <td>OLS</td>       <th>  Adj. R-squared:    </th> <td>   0.864</td> \n",
       "</tr>\n",
       "<tr>\n",
       "  <th>Method:</th>             <td>Least Squares</td>  <th>  F-statistic:       </th> <td>1.254e+04</td>\n",
       "</tr>\n",
       "<tr>\n",
       "  <th>Date:</th>             <td>Mon, 10 Dec 2018</td> <th>  Prob (F-statistic):</th>  <td>  0.00</td>  \n",
       "</tr>\n",
       "<tr>\n",
       "  <th>Time:</th>                 <td>15:01:56</td>     <th>  Log-Likelihood:    </th> <td> -17488.</td> \n",
       "</tr>\n",
       "<tr>\n",
       "  <th>No. Observations:</th>      <td>  1967</td>      <th>  AIC:               </th> <td>3.498e+04</td>\n",
       "</tr>\n",
       "<tr>\n",
       "  <th>Df Residuals:</th>          <td>  1965</td>      <th>  BIC:               </th> <td>3.499e+04</td>\n",
       "</tr>\n",
       "<tr>\n",
       "  <th>Df Model:</th>              <td>     1</td>      <th>                     </th>     <td> </td>    \n",
       "</tr>\n",
       "<tr>\n",
       "  <th>Covariance Type:</th>      <td>nonrobust</td>    <th>                     </th>     <td> </td>    \n",
       "</tr>\n",
       "</table>\n",
       "<table class=\"simpletable\">\n",
       "<tr>\n",
       "         <td></td>           <th>coef</th>     <th>std err</th>      <th>t</th>      <th>P>|t|</th>  <th>[0.025</th>    <th>0.975]</th>  \n",
       "</tr>\n",
       "<tr>\n",
       "  <th>favorite_count</th> <td>    0.3439</td> <td>    0.003</td> <td>  111.983</td> <td> 0.000</td> <td>    0.338</td> <td>    0.350</td>\n",
       "</tr>\n",
       "<tr>\n",
       "  <th>intercept</th>      <td> -350.0832</td> <td>   48.014</td> <td>   -7.291</td> <td> 0.000</td> <td> -444.246</td> <td> -255.920</td>\n",
       "</tr>\n",
       "</table>\n",
       "<table class=\"simpletable\">\n",
       "<tr>\n",
       "  <th>Omnibus:</th>       <td>1757.225</td> <th>  Durbin-Watson:     </th>  <td>   1.252</td> \n",
       "</tr>\n",
       "<tr>\n",
       "  <th>Prob(Omnibus):</th>  <td> 0.000</td>  <th>  Jarque-Bera (JB):  </th> <td>230794.917</td>\n",
       "</tr>\n",
       "<tr>\n",
       "  <th>Skew:</th>           <td> 3.641</td>  <th>  Prob(JB):          </th>  <td>    0.00</td> \n",
       "</tr>\n",
       "<tr>\n",
       "  <th>Kurtosis:</th>       <td>55.564</td>  <th>  Cond. No.          </th>  <td>1.89e+04</td> \n",
       "</tr>\n",
       "</table><br/><br/>Warnings:<br/>[1] Standard Errors assume that the covariance matrix of the errors is correctly specified.<br/>[2] The condition number is large, 1.89e+04. This might indicate that there are<br/>strong multicollinearity or other numerical problems."
      ],
      "text/plain": [
       "<class 'statsmodels.iolib.summary.Summary'>\n",
       "\"\"\"\n",
       "                            OLS Regression Results                            \n",
       "==============================================================================\n",
       "Dep. Variable:          retweet_count   R-squared:                       0.865\n",
       "Model:                            OLS   Adj. R-squared:                  0.864\n",
       "Method:                 Least Squares   F-statistic:                 1.254e+04\n",
       "Date:                Mon, 10 Dec 2018   Prob (F-statistic):               0.00\n",
       "Time:                        15:01:56   Log-Likelihood:                -17488.\n",
       "No. Observations:                1967   AIC:                         3.498e+04\n",
       "Df Residuals:                    1965   BIC:                         3.499e+04\n",
       "Df Model:                           1                                         \n",
       "Covariance Type:            nonrobust                                         \n",
       "==================================================================================\n",
       "                     coef    std err          t      P>|t|      [0.025      0.975]\n",
       "----------------------------------------------------------------------------------\n",
       "favorite_count     0.3439      0.003    111.983      0.000       0.338       0.350\n",
       "intercept       -350.0832     48.014     -7.291      0.000    -444.246    -255.920\n",
       "==============================================================================\n",
       "Omnibus:                     1757.225   Durbin-Watson:                   1.252\n",
       "Prob(Omnibus):                  0.000   Jarque-Bera (JB):           230794.917\n",
       "Skew:                           3.641   Prob(JB):                         0.00\n",
       "Kurtosis:                      55.564   Cond. No.                     1.89e+04\n",
       "==============================================================================\n",
       "\n",
       "Warnings:\n",
       "[1] Standard Errors assume that the covariance matrix of the errors is correctly specified.\n",
       "[2] The condition number is large, 1.89e+04. This might indicate that there are\n",
       "strong multicollinearity or other numerical problems.\n",
       "\"\"\""
      ]
     },
     "execution_count": 51,
     "metadata": {},
     "output_type": "execute_result"
    }
   ],
   "source": [
    "sm.OLS(\n",
    "    df_tweets_analysis['retweet_count'],\n",
    "    df_tweets_analysis[['favorite_count', 'intercept']]\n",
    ").fit().summary()"
   ]
  },
  {
   "cell_type": "markdown",
   "metadata": {},
   "source": [
    "> We have a very strong linear relationship with 86.4% of the variance of one count being accounted for by the other."
   ]
  },
  {
   "cell_type": "markdown",
   "metadata": {},
   "source": [
    "## Question 3: Do tweets with positive dog predictions have higher ratings?\n",
    "\n",
    "> We want to partition the data into two subsets -- one containing only the tweets having p1_dog = True, and one containing only the tweets having p1_dog = False. Let's first create a plot to compare the rating distributions of each of these subsets visually. Since, a point plot would allow us to place both distributions onto a single plot for easy comparison, let's create a point plot with ratings along the x axis and counts, normalized within each group, along the y axis. We'll have to do the normalization part ourselves, since the kind of normalization we want doesn't come with the libraries."
   ]
  },
  {
   "cell_type": "code",
   "execution_count": 52,
   "metadata": {},
   "outputs": [
    {
     "data": {
      "text/plain": [
       "p1_dog\n",
       "False     506\n",
       "True     1461\n",
       "Name: tweet_id, dtype: int64"
      ]
     },
     "execution_count": 52,
     "metadata": {},
     "output_type": "execute_result"
    }
   ],
   "source": [
    "# Get the counts for each subset, for normalization.\n",
    "is_dog_counts = df_tweets_analysis.groupby('p1_dog').tweet_id.count()\n",
    "is_dog_counts"
   ]
  },
  {
   "cell_type": "code",
   "execution_count": 53,
   "metadata": {},
   "outputs": [
    {
     "data": {
      "text/html": [
       "<div>\n",
       "<style scoped>\n",
       "    .dataframe tbody tr th:only-of-type {\n",
       "        vertical-align: middle;\n",
       "    }\n",
       "\n",
       "    .dataframe tbody tr th {\n",
       "        vertical-align: top;\n",
       "    }\n",
       "\n",
       "    .dataframe thead th {\n",
       "        text-align: right;\n",
       "    }\n",
       "</style>\n",
       "<table border=\"1\" class=\"dataframe\">\n",
       "  <thead>\n",
       "    <tr style=\"text-align: right;\">\n",
       "      <th></th>\n",
       "      <th>rating</th>\n",
       "      <th>rating_rounded</th>\n",
       "    </tr>\n",
       "  </thead>\n",
       "  <tbody>\n",
       "    <tr>\n",
       "      <th>39</th>\n",
       "      <td>1.350000</td>\n",
       "      <td>1.4</td>\n",
       "    </tr>\n",
       "    <tr>\n",
       "      <th>498</th>\n",
       "      <td>0.975000</td>\n",
       "      <td>1.0</td>\n",
       "    </tr>\n",
       "    <tr>\n",
       "      <th>548</th>\n",
       "      <td>1.127000</td>\n",
       "      <td>1.1</td>\n",
       "    </tr>\n",
       "    <tr>\n",
       "      <th>791</th>\n",
       "      <td>0.818182</td>\n",
       "      <td>0.8</td>\n",
       "    </tr>\n",
       "    <tr>\n",
       "      <th>1310</th>\n",
       "      <td>0.636364</td>\n",
       "      <td>0.6</td>\n",
       "    </tr>\n",
       "    <tr>\n",
       "      <th>1356</th>\n",
       "      <td>1.126000</td>\n",
       "      <td>1.1</td>\n",
       "    </tr>\n",
       "  </tbody>\n",
       "</table>\n",
       "</div>"
      ],
      "text/plain": [
       "        rating  rating_rounded\n",
       "39    1.350000             1.4\n",
       "498   0.975000             1.0\n",
       "548   1.127000             1.1\n",
       "791   0.818182             0.8\n",
       "1310  0.636364             0.6\n",
       "1356  1.126000             1.1"
      ]
     },
     "execution_count": 53,
     "metadata": {},
     "output_type": "execute_result"
    }
   ],
   "source": [
    "# Round all ratings to their nearest tenth.\n",
    "df_tweets_analysis['rating_rounded'] = (\n",
    "    df_tweets_analysis.rating.apply(lambda x: round(x, 1))\n",
    ")\n",
    "df_tweets_analysis[\n",
    "    df_tweets_analysis.rating != df_tweets_analysis.rating_rounded\n",
    "][['rating', 'rating_rounded']]"
   ]
  },
  {
   "cell_type": "code",
   "execution_count": 54,
   "metadata": {},
   "outputs": [
    {
     "data": {
      "text/html": [
       "<div>\n",
       "<style scoped>\n",
       "    .dataframe tbody tr th:only-of-type {\n",
       "        vertical-align: middle;\n",
       "    }\n",
       "\n",
       "    .dataframe tbody tr th {\n",
       "        vertical-align: top;\n",
       "    }\n",
       "\n",
       "    .dataframe thead th {\n",
       "        text-align: right;\n",
       "    }\n",
       "</style>\n",
       "<table border=\"1\" class=\"dataframe\">\n",
       "  <thead>\n",
       "    <tr style=\"text-align: right;\">\n",
       "      <th></th>\n",
       "      <th>p1_dog</th>\n",
       "      <th>rating_rounded</th>\n",
       "      <th>count</th>\n",
       "      <th>normalized_count</th>\n",
       "    </tr>\n",
       "  </thead>\n",
       "  <tbody>\n",
       "    <tr>\n",
       "      <th>0</th>\n",
       "      <td>False</td>\n",
       "      <td>0.0</td>\n",
       "      <td>1</td>\n",
       "      <td>0.001976</td>\n",
       "    </tr>\n",
       "    <tr>\n",
       "      <th>1</th>\n",
       "      <td>False</td>\n",
       "      <td>0.1</td>\n",
       "      <td>4</td>\n",
       "      <td>0.007905</td>\n",
       "    </tr>\n",
       "    <tr>\n",
       "      <th>2</th>\n",
       "      <td>False</td>\n",
       "      <td>0.2</td>\n",
       "      <td>8</td>\n",
       "      <td>0.015810</td>\n",
       "    </tr>\n",
       "    <tr>\n",
       "      <th>3</th>\n",
       "      <td>False</td>\n",
       "      <td>0.3</td>\n",
       "      <td>16</td>\n",
       "      <td>0.031621</td>\n",
       "    </tr>\n",
       "    <tr>\n",
       "      <th>4</th>\n",
       "      <td>False</td>\n",
       "      <td>0.4</td>\n",
       "      <td>11</td>\n",
       "      <td>0.021739</td>\n",
       "    </tr>\n",
       "  </tbody>\n",
       "</table>\n",
       "</div>"
      ],
      "text/plain": [
       "   p1_dog  rating_rounded  count  normalized_count\n",
       "0   False             0.0      1          0.001976\n",
       "1   False             0.1      4          0.007905\n",
       "2   False             0.2      8          0.015810\n",
       "3   False             0.3     16          0.031621\n",
       "4   False             0.4     11          0.021739"
      ]
     },
     "execution_count": 54,
     "metadata": {},
     "output_type": "execute_result"
    }
   ],
   "source": [
    "# Form a dataframe for the plot and normalize the counts.\n",
    "df_q3 = (\n",
    "    df_tweets_analysis\n",
    "    .groupby(['p1_dog', 'rating_rounded'])\n",
    "    .tweet_id.count()\n",
    "    .to_frame().reset_index()\n",
    "    .rename(columns={'tweet_id': 'count'})\n",
    ")\n",
    "df_q3['normalized_count'] = df_q3.apply(\n",
    "    lambda r: r['count'] / is_dog_counts[r.p1_dog], axis=1\n",
    ")\n",
    "df_q3.head()"
   ]
  },
  {
   "cell_type": "code",
   "execution_count": 55,
   "metadata": {},
   "outputs": [
    {
     "data": {
      "text/plain": [
       "p1_dog\n",
       "False    1.0\n",
       "True     1.0\n",
       "Name: normalized_count, dtype: float64"
      ]
     },
     "execution_count": 55,
     "metadata": {},
     "output_type": "execute_result"
    }
   ],
   "source": [
    "# Verify that each normalization equals 1.\n",
    "df_q3.groupby('p1_dog').normalized_count.sum()"
   ]
  },
  {
   "cell_type": "code",
   "execution_count": 56,
   "metadata": {},
   "outputs": [
    {
     "data": {
      "image/png": "[encoded data removed]",
      "text/plain": [
       "<Figure size 720x432 with 1 Axes>"
      ]
     },
     "metadata": {
      "needs_background": "light"
     },
     "output_type": "display_data"
    }
   ],
   "source": [
    "# Plot.\n",
    "plt.figure(figsize=(10, 6))\n",
    "sns.pointplot(\n",
    "    data=df_q3, x='rating_rounded', y='normalized_count', hue='p1_dog'\n",
    ");\n",
    "plt.title('Normalized Rating Distributions for p1_dog = {False, True}');\n",
    "plt.xlabel('Rating (Nearest Tenth)')\n",
    "plt.ylabel('Percent of Tweets in Subset');\n",
    "plt.savefig('analysis_q3.png');"
   ]
  },
  {
   "cell_type": "markdown",
   "metadata": {},
   "source": [
    "> Indeed, the p1_dog=False group has a thicker tail on the left. The p1_dog=True tweets appear to have higher ratings on average. Let's see if the difference is statistically significant. We'll use hypothesis testing on bootstrapped samples with a null hypothesis that the mean of the p1_dog=False ratings is greater than or equal to the mean of the p1_dog=True ratings."
   ]
  },
  {
   "cell_type": "code",
   "execution_count": 57,
   "metadata": {},
   "outputs": [
    {
     "name": "stdout",
     "output_type": "stream",
     "text": [
      "0.0 0.947305066475027 1.090209570032982 0.14290450355795492\n"
     ]
    }
   ],
   "source": [
    "def new_sample_mean(series):\n",
    "    new_sample = series.sample(len(series), replace=True)\n",
    "    return new_sample.mean()\n",
    "\n",
    "def sample_mean_diffs(series1, series2, n_samples):\n",
    "    return np.array([\n",
    "        new_sample_mean(series1) - new_sample_mean(series2)\n",
    "        for i in range(n_samples)\n",
    "    ])\n",
    "\n",
    "dog_ratings = df_tweets_analysis[df_tweets_analysis.p1_dog].rating\n",
    "non_dog_ratings = df_tweets_analysis[~df_tweets_analysis.p1_dog].rating\n",
    "sample_rating_mean_diffs = sample_mean_diffs(non_dog_ratings, dog_ratings, 5000)\n",
    "null_hypothesis = sample_rating_mean_diffs >= 0\n",
    "p_value = null_hypothesis.mean()\n",
    "print(\n",
    "    p_value,\n",
    "    non_dog_ratings.mean(),\n",
    "    dog_ratings.mean(),\n",
    "    dog_ratings.mean() - non_dog_ratings.mean()\n",
    ")"
   ]
  },
  {
   "cell_type": "markdown",
   "metadata": {},
   "source": [
    "> With a p-value of 0 < 0.05, we have a statistically significant result, and the difference between the means is about 0.14, or 1.4/10 on the standard rating scale, which seems like a practically significant difference."
   ]
  },
  {
   "cell_type": "code",
   "execution_count": 58,
   "metadata": {},
   "outputs": [
    {
     "data": {
      "text/plain": [
       "745"
      ]
     },
     "execution_count": 58,
     "metadata": {},
     "output_type": "execute_result"
    }
   ],
   "source": [
    "df_tweets_tidy[df_tweets_tidy.name =='None'].name.count()"
   ]
  },
  {
   "cell_type": "code",
   "execution_count": null,
   "metadata": {},
   "outputs": [],
   "source": []
  }
 ],
 "metadata": {
  "kernelspec": {
   "display_name": "Python 3",
   "language": "python",
   "name": "python3"
  },
  "language_info": {
   "codemirror_mode": {
    "name": "ipython",
    "version": 3
   },
   "file_extension": ".py",
   "mimetype": "text/x-python",
   "name": "python",
   "nbconvert_exporter": "python",
   "pygments_lexer": "ipython3",
   "version": "3.6.6"
  }
 },
 "nbformat": 4,
 "nbformat_minor": 2
}
